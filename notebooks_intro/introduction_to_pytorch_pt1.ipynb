{
 "cells": [
  {
   "cell_type": "code",
   "execution_count": 1,
   "id": "ed9c0e49-a436-4e60-beaf-d54ca182b46e",
   "metadata": {},
   "outputs": [],
   "source": [
    "import torch"
   ]
  },
  {
   "cell_type": "code",
   "execution_count": 7,
   "id": "55e34cd7-b1e7-41fc-8216-f2feeefa9b29",
   "metadata": {},
   "outputs": [],
   "source": [
    "rand_seed = 1729"
   ]
  },
  {
   "cell_type": "code",
   "execution_count": 4,
   "id": "833700c1-1079-470f-a46b-896980c78e64",
   "metadata": {},
   "outputs": [
    {
     "name": "stdout",
     "output_type": "stream",
     "text": [
      "tensor([[0., 0., 0.],\n",
      "        [0., 0., 0.],\n",
      "        [0., 0., 0.],\n",
      "        [0., 0., 0.],\n",
      "        [0., 0., 0.]])\n",
      "torch.float32\n"
     ]
    }
   ],
   "source": [
    "z = torch.zeros(5, 3)\n",
    "print(z)\n",
    "print(z.dtype)"
   ]
  },
  {
   "cell_type": "code",
   "execution_count": 6,
   "id": "eef31485-0da8-4a43-a774-b042973be263",
   "metadata": {},
   "outputs": [
    {
     "name": "stdout",
     "output_type": "stream",
     "text": [
      "tensor([[1, 1, 1],\n",
      "        [1, 1, 1],\n",
      "        [1, 1, 1],\n",
      "        [1, 1, 1],\n",
      "        [1, 1, 1]], dtype=torch.int16)\n",
      "torch.int16\n"
     ]
    }
   ],
   "source": [
    "z_int16 = torch.ones((5, 3), dtype=torch.int16)\n",
    "print(z_int16)\n",
    "print(z_int16.dtype)"
   ]
  },
  {
   "cell_type": "code",
   "execution_count": 16,
   "id": "2daf89b9-d5b5-43f4-bf2d-13574ee0a8f3",
   "metadata": {},
   "outputs": [
    {
     "name": "stdout",
     "output_type": "stream",
     "text": [
      "tensor([[0.3126, 0.3791],\n",
      "        [0.3087, 0.0736]])\n",
      "tensor([[0.4216, 0.0691],\n",
      "        [0.2332, 0.4047]])\n",
      "tensor([[0.3126, 0.3791],\n",
      "        [0.3087, 0.0736]])\n"
     ]
    }
   ],
   "source": [
    "torch.manual_seed(rand_seed)\n",
    "r1 = torch.rand((2, 2))\n",
    "print(r1)\n",
    "\n",
    "r2 = torch.rand((2, 2))\n",
    "print(r2)\n",
    "\n",
    "torch.manual_seed(rand_seed)\n",
    "r3 = torch.rand((2, 2))\n",
    "print(r3)"
   ]
  },
  {
   "cell_type": "code",
   "execution_count": 31,
   "id": "0e1d055a-8aef-469a-82df-faebe30e9af0",
   "metadata": {},
   "outputs": [
    {
     "name": "stdout",
     "output_type": "stream",
     "text": [
      "tensor([[1., 1., 1.],\n",
      "        [1., 1., 1.]])\n",
      "tensor([[2., 2., 2.],\n",
      "        [2., 2., 2.]])\n",
      "tensor([[3., 3., 3.],\n",
      "        [3., 3., 3.]])\n",
      "torch.Size([2, 3])\n",
      "tensor([[0.9143, 1.3508],\n",
      "        [0.3093, 0.5889]])\n",
      "tensor([[0.9143, 1.3508],\n",
      "        [0.3093, 0.5889]])\n",
      "tensor([[0.9143, 1.3508],\n",
      "        [0.3093, 0.5889]])\n"
     ]
    }
   ],
   "source": [
    "ones = torch.ones((2, 3))\n",
    "print(ones)\n",
    "\n",
    "twos = torch.ones((2, 3)) * 2\n",
    "print(twos)\n",
    "\n",
    "threes = ones + twos\n",
    "print(threes)\n",
    "print(threes.shape)\n",
    "\n",
    "r1 = torch.rand((2, 3))\n",
    "r2 = torch.rand((3, 2))\n",
    "\n",
    "# Different ways of doing matrix multiplication\n",
    "print(r1 @ r2)\n",
    "print(torch.mm(r1, r2))\n",
    "print(torch.matmul(r1, r2))"
   ]
  },
  {
   "cell_type": "code",
   "execution_count": 71,
   "id": "6ee413e2-7f57-4309-b147-acaf5cddbc18",
   "metadata": {},
   "outputs": [
    {
     "name": "stdout",
     "output_type": "stream",
     "text": [
      "tensor([[ 0.8577,  0.2585],\n",
      "        [ 0.2528, -0.0593]])\n",
      "tensor([[0.8577, 0.2585],\n",
      "        [0.2528, 0.0593]])\n",
      "tensor([[ 1.0308,  0.2615],\n",
      "        [ 0.2555, -0.0593]])\n",
      "tensor(-0.1162)\n",
      "torch.return_types.svd(\n",
      "U=tensor([[-0.9687, -0.2481],\n",
      "        [-0.2481,  0.9687]]),\n",
      "S=tensor([0.9242, 0.1257]),\n",
      "V=tensor([[-0.9669,  0.2551],\n",
      "        [-0.2551, -0.9669]]))\n",
      "(tensor(0.3834), tensor(0.3274))\n",
      "tensor(0.3274)\n",
      "tensor(0.3834)\n",
      "tensor(0.8577)\n"
     ]
    }
   ],
   "source": [
    "r = ((torch.rand((2, 2)) - 0.5) * 2)\n",
    "print(r)\n",
    "\n",
    "print(\n",
    "    torch.abs(r)\n",
    ")\n",
    "\n",
    "print(\n",
    "    torch.asin(r)\n",
    ")\n",
    "\n",
    "print(\n",
    "    torch.det(r)\n",
    ")\n",
    "\n",
    "print(\n",
    "    torch.svd(r)\n",
    ")\n",
    "\n",
    "print(\n",
    "    torch.std_mean(r)\n",
    ")\n",
    "\n",
    "print(\n",
    "    torch.mean(r)\n",
    ")\n",
    "\n",
    "print(\n",
    "    torch.std(r)\n",
    ")\n",
    "\n",
    "print(\n",
    "    torch.max(r)\n",
    ")"
   ]
  }
 ],
 "metadata": {
  "kernelspec": {
   "display_name": "Python 3 (ipykernel)",
   "language": "python",
   "name": "python3"
  },
  "language_info": {
   "codemirror_mode": {
    "name": "ipython",
    "version": 3
   },
   "file_extension": ".py",
   "mimetype": "text/x-python",
   "name": "python",
   "nbconvert_exporter": "python",
   "pygments_lexer": "ipython3",
   "version": "3.10.10"
  }
 },
 "nbformat": 4,
 "nbformat_minor": 5
}
