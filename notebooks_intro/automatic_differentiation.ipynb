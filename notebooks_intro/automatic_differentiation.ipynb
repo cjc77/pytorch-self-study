{
 "cells": [
  {
   "cell_type": "code",
   "execution_count": 1,
   "id": "4c9a4f8a-90e1-4378-81d2-ddf3cdf1f7bf",
   "metadata": {},
   "outputs": [],
   "source": [
    "import torch"
   ]
  },
  {
   "cell_type": "code",
   "execution_count": 44,
   "id": "a54fb3ea-326a-42b5-b92a-83fc1d5d9be6",
   "metadata": {},
   "outputs": [],
   "source": [
    "torch.manual_seed(234)\n",
    "x = torch.ones(5)\n",
    "y = torch.zeros(3)\n",
    "# could also use w.requires_grad(True)\n",
    "w = torch.randn((5, 3), requires_grad=True)\n",
    "b = torch.randn(3, requires_grad=True)"
   ]
  },
  {
   "cell_type": "code",
   "execution_count": 45,
   "id": "c292d887-a404-4b42-834c-7fd46aa79bd6",
   "metadata": {},
   "outputs": [],
   "source": [
    "z = torch.matmul(x, w) + b\n",
    "# a = torch.nn.functional.sigmoid(z)\n",
    "loss = torch.nn.functional.binary_cross_entropy_with_logits(z, y)\n",
    "# loss = torch.nn.functional.binary_cross_entropy(a, y)"
   ]
  },
  {
   "cell_type": "code",
   "execution_count": 46,
   "id": "7454edcb-f8d0-4ea4-9ee0-1cf825ca6e77",
   "metadata": {},
   "outputs": [
    {
     "name": "stdout",
     "output_type": "stream",
     "text": [
      "<AddBackward0 object at 0x7f7965c7e0b0>\n",
      "<BinaryCrossEntropyWithLogitsBackward0 object at 0x7f7965c7c6d0>\n"
     ]
    }
   ],
   "source": [
    "print(z.grad_fn)\n",
    "print(loss.grad_fn)"
   ]
  },
  {
   "cell_type": "code",
   "execution_count": 47,
   "id": "03d94ce1-75ff-4f68-a449-3ee160d91c9e",
   "metadata": {},
   "outputs": [
    {
     "name": "stdout",
     "output_type": "stream",
     "text": [
      "tensor([[0.0011, 0.0690, 0.0342],\n",
      "        [0.0011, 0.0690, 0.0342],\n",
      "        [0.0011, 0.0690, 0.0342],\n",
      "        [0.0011, 0.0690, 0.0342],\n",
      "        [0.0011, 0.0690, 0.0342]])\n",
      "tensor([0.0011, 0.0690, 0.0342])\n"
     ]
    }
   ],
   "source": [
    "loss.backward()\n",
    "print(w.grad)\n",
    "print(b.grad)"
   ]
  },
  {
   "cell_type": "code",
   "execution_count": 50,
   "id": "94708901-b218-431d-b7cb-1b7e0c599f78",
   "metadata": {},
   "outputs": [
    {
     "name": "stdout",
     "output_type": "stream",
     "text": [
      "tensor([[0.0011, 0.0690, 0.0342],\n",
      "        [0.0011, 0.0690, 0.0342],\n",
      "        [0.0011, 0.0690, 0.0342],\n",
      "        [0.0011, 0.0690, 0.0342],\n",
      "        [0.0011, 0.0690, 0.0342]])\n"
     ]
    }
   ],
   "source": [
    "# Compute gradients by hand\n",
    "# dL/dw = (a-y)x\n",
    "with torch.no_grad():\n",
    "    a = torch.nn.functional.sigmoid(z)\n",
    "    grad = torch.outer(x, a - y) / y.shape[0]\n",
    "    print(grad)"
   ]
  },
  {
   "cell_type": "code",
   "execution_count": 7,
   "id": "e4dbcd11-bac1-4438-ad6e-f7e2e213739f",
   "metadata": {},
   "outputs": [
    {
     "name": "stdout",
     "output_type": "stream",
     "text": [
      "True\n",
      "False\n"
     ]
    }
   ],
   "source": [
    "z = torch.matmul(x, w) + b\n",
    "print(z.requires_grad)\n",
    "\n",
    "with torch.no_grad():\n",
    "    z = torch.matmul(x, w) + b\n",
    "print(z.requires_grad)"
   ]
  },
  {
   "cell_type": "code",
   "execution_count": 10,
   "id": "6ea064f0-29ca-4f0a-b659-c15b9993ada9",
   "metadata": {},
   "outputs": [
    {
     "name": "stdout",
     "output_type": "stream",
     "text": [
      "True\n",
      "False\n"
     ]
    }
   ],
   "source": [
    "z = torch.matmul(x, w) + b\n",
    "print(z.requires_grad)\n",
    "z_d = z.detach()\n",
    "print(z_d.requires_grad)"
   ]
  },
  {
   "cell_type": "code",
   "execution_count": 64,
   "id": "d9d7b6f4-9b29-448c-a40a-1c5c1d03c39c",
   "metadata": {},
   "outputs": [
    {
     "name": "stdout",
     "output_type": "stream",
     "text": [
      "First call:\n",
      "tensor([[4., 2., 2., 2., 2.],\n",
      "        [2., 4., 2., 2., 2.],\n",
      "        [2., 2., 4., 2., 2.],\n",
      "        [2., 2., 2., 4., 2.]])\n",
      "Second call:\n",
      "tensor([[8., 4., 4., 4., 4.],\n",
      "        [4., 8., 4., 4., 4.],\n",
      "        [4., 4., 8., 4., 4.],\n",
      "        [4., 4., 4., 8., 4.]])\n",
      "Third call:\n",
      "tensor([[4., 2., 2., 2., 2.],\n",
      "        [2., 4., 2., 2., 2.],\n",
      "        [2., 2., 4., 2., 2.],\n",
      "        [2., 2., 2., 4., 2.]])\n"
     ]
    }
   ],
   "source": [
    "inp = torch.eye(4, 5, requires_grad=True)\n",
    "out = (inp + 1).pow(2).t()\n",
    "out.backward(torch.ones_like(out), retain_graph=True)\n",
    "print(f\"First call:\\n{inp.grad}\")\n",
    "out.backward(torch.ones_like(out), retain_graph=True)\n",
    "print(f\"Second call:\\n{inp.grad}\")\n",
    "inp.grad.zero_()\n",
    "out.backward(torch.ones_like(out), retain_graph=True)\n",
    "print(f\"Third call:\\n{inp.grad}\")"
   ]
  }
 ],
 "metadata": {
  "kernelspec": {
   "display_name": "Python 3 (ipykernel)",
   "language": "python",
   "name": "python3"
  },
  "language_info": {
   "codemirror_mode": {
    "name": "ipython",
    "version": 3
   },
   "file_extension": ".py",
   "mimetype": "text/x-python",
   "name": "python",
   "nbconvert_exporter": "python",
   "pygments_lexer": "ipython3",
   "version": "3.10.10"
  }
 },
 "nbformat": 4,
 "nbformat_minor": 5
}
