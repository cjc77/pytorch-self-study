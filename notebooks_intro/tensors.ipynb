{
 "cells": [
  {
   "cell_type": "code",
   "execution_count": 28,
   "id": "1bc5779d-357f-47bf-b7eb-86088cebf1e7",
   "metadata": {},
   "outputs": [],
   "source": [
    "import torch\n",
    "import numpy as np"
   ]
  },
  {
   "cell_type": "code",
   "execution_count": 29,
   "id": "4cccad20-7e6b-4d0d-9b42-0f841da3cc26",
   "metadata": {},
   "outputs": [
    {
     "data": {
      "text/plain": [
       "<torch._C.Generator at 0x7f929459c650>"
      ]
     },
     "execution_count": 29,
     "metadata": {},
     "output_type": "execute_result"
    }
   ],
   "source": [
    "torch.manual_seed(945673)"
   ]
  },
  {
   "cell_type": "code",
   "execution_count": 30,
   "id": "8ddeec4c-988e-4899-b597-01dcb5f89c66",
   "metadata": {},
   "outputs": [
    {
     "name": "stdout",
     "output_type": "stream",
     "text": [
      "tensor([[1, 2],\n",
      "        [3, 4]])\n",
      "torch.int64\n"
     ]
    }
   ],
   "source": [
    "data = [[1, 2], [3, 4]]\n",
    "x_data = torch.tensor(data)\n",
    "print(x_data)\n",
    "print(x_data.dtype)"
   ]
  },
  {
   "cell_type": "code",
   "execution_count": 31,
   "id": "b3ab923f-c8ef-4a5d-995f-59b1e351ada4",
   "metadata": {},
   "outputs": [
    {
     "name": "stdout",
     "output_type": "stream",
     "text": [
      "[[1 2]\n",
      " [3 4]]\n",
      "tensor([[1, 2],\n",
      "        [3, 4]])\n"
     ]
    }
   ],
   "source": [
    "np_array = np.array(data)\n",
    "print(np_array)\n",
    "x_np = torch.from_numpy(np_array)\n",
    "print(x_np)"
   ]
  },
  {
   "cell_type": "code",
   "execution_count": 32,
   "id": "783a54ca-227d-47c8-9970-f33202414b39",
   "metadata": {},
   "outputs": [
    {
     "name": "stdout",
     "output_type": "stream",
     "text": [
      "tensor([[1, 1],\n",
      "        [1, 1]])\n",
      "tensor([[0.6091, 0.3262],\n",
      "        [0.6054, 0.0556]])\n"
     ]
    }
   ],
   "source": [
    "x_ones = torch.ones_like(x_data)\n",
    "print(x_ones)\n",
    "x_rand = torch.rand_like(x_data, dtype=torch.float)\n",
    "print(x_rand)"
   ]
  },
  {
   "cell_type": "code",
   "execution_count": 33,
   "id": "6a184039-0ee6-470c-a779-27800aa7bb0f",
   "metadata": {},
   "outputs": [
    {
     "name": "stdout",
     "output_type": "stream",
     "text": [
      "tensor([[0.4611, 0.6640, 0.6787],\n",
      "        [0.4764, 0.6888, 0.8816]])\n",
      "tensor([[1., 1., 1.],\n",
      "        [1., 1., 1.]])\n",
      "tensor([[0., 0., 0.],\n",
      "        [0., 0., 0.]])\n"
     ]
    }
   ],
   "source": [
    "shape = (2, 3)\n",
    "rand_tensor = torch.rand(shape)\n",
    "print(rand_tensor)\n",
    "ones_tensor = torch.ones(shape)\n",
    "print(ones_tensor)\n",
    "zeros_tensor = torch.zeros(shape)\n",
    "print(zeros_tensor)"
   ]
  },
  {
   "cell_type": "code",
   "execution_count": 34,
   "id": "d11a52c8-b35e-4948-a426-245e4af26400",
   "metadata": {},
   "outputs": [
    {
     "name": "stdout",
     "output_type": "stream",
     "text": [
      "tensor([[0.6797, 0.8945, 0.7646, 0.3660],\n",
      "        [0.1215, 0.5605, 0.2480, 0.6530],\n",
      "        [0.1058, 0.9521, 0.4973, 0.8450]])\n",
      "torch.Size([3, 4])\n",
      "torch.Size([3, 4])\n",
      "torch.float32\n",
      "cpu\n",
      "cuda:0\n",
      "cpu\n"
     ]
    }
   ],
   "source": [
    "tensor = torch.rand((3, 4))\n",
    "print(tensor)\n",
    "print(tensor.shape)\n",
    "print(tensor.size())\n",
    "print(tensor.dtype)\n",
    "print(tensor.device)\n",
    "if torch.cuda.is_available():\n",
    "    tensor = tensor.to(torch.device(\"cuda:0\"))\n",
    "print(tensor.device)\n",
    "tensor = tensor.to(torch.device(\"cpu\"))\n",
    "print(tensor.device)"
   ]
  },
  {
   "cell_type": "code",
   "execution_count": 58,
   "id": "098bd127-a6ed-472e-a3f6-2985a641ebb7",
   "metadata": {},
   "outputs": [
    {
     "name": "stdout",
     "output_type": "stream",
     "text": [
      "tensor([[0.6091, 0.3262, 0.6054, 0.0556],\n",
      "        [0.4611, 0.6640, 0.6787, 0.4764],\n",
      "        [0.6888, 0.8816, 0.6797, 0.8945],\n",
      "        [0.7646, 0.3660, 0.1215, 0.5605]])\n",
      "tensor([0.6091, 0.3262, 0.6054, 0.0556])\n",
      "tensor([[0.6091, 0.3262, 0.6054, 0.0556]])\n",
      "tensor([0.6091, 0.4611, 0.6888, 0.7646])\n",
      "tensor([[0.6091],\n",
      "        [0.4611],\n",
      "        [0.6888],\n",
      "        [0.7646]])\n",
      "tensor([[0.0556],\n",
      "        [0.4764],\n",
      "        [0.8945],\n",
      "        [0.5605]])\n"
     ]
    }
   ],
   "source": [
    "torch.manual_seed(945673)\n",
    "tensor = torch.rand((4, 4))\n",
    "print(tensor)\n",
    "print(tensor[0])\n",
    "# Keep dimensions\n",
    "print(tensor[0:1])\n",
    "# ... = handle as many previous dimensions as there are\n",
    "# E.g., [:, :, ..., :, 1]\n",
    "print(tensor[...,0])\n",
    "# Keep dimensions\n",
    "print(tensor[...,0:1])\n",
    "print(tensor[:,-1][..., None])"
   ]
  },
  {
   "cell_type": "code",
   "execution_count": 64,
   "id": "063bfc39-6d51-4a5b-967e-c40b1548ed05",
   "metadata": {},
   "outputs": [
    {
     "name": "stdout",
     "output_type": "stream",
     "text": [
      "tensor([[0.6091, 0.3262, 0.6054, 0.0556, 1.2183, 0.6524, 1.2107, 0.1112],\n",
      "        [0.4611, 0.6640, 0.6787, 0.4764, 0.9221, 1.3279, 1.3575, 0.9528],\n",
      "        [0.6888, 0.8816, 0.6797, 0.8945, 1.3777, 1.7632, 1.3595, 1.7890],\n",
      "        [0.7646, 0.3660, 0.1215, 0.5605, 1.5291, 0.7319, 0.2430, 1.1211]])\n",
      "tensor([[[0.6091, 0.3262, 0.6054, 0.0556],\n",
      "         [0.4611, 0.6640, 0.6787, 0.4764],\n",
      "         [0.6888, 0.8816, 0.6797, 0.8945],\n",
      "         [0.7646, 0.3660, 0.1215, 0.5605]],\n",
      "\n",
      "        [[1.2183, 0.6524, 1.2107, 0.1112],\n",
      "         [0.9221, 1.3279, 1.3575, 0.9528],\n",
      "         [1.3777, 1.7632, 1.3595, 1.7890],\n",
      "         [1.5291, 0.7319, 0.2430, 1.1211]]])\n"
     ]
    }
   ],
   "source": [
    "cat_tensor = torch.cat([tensor, tensor * 2], dim=1)\n",
    "print(cat_tensor)\n",
    "stack_tensor = torch.stack([tensor, tensor * 2], dim=0)\n",
    "print(stack_tensor)"
   ]
  },
  {
   "cell_type": "code",
   "execution_count": null,
   "id": "dfbf7f9f-221c-4e01-897e-dab1ff9627af",
   "metadata": {},
   "outputs": [],
   "source": []
  }
 ],
 "metadata": {
  "kernelspec": {
   "display_name": "Python 3 (ipykernel)",
   "language": "python",
   "name": "python3"
  },
  "language_info": {
   "codemirror_mode": {
    "name": "ipython",
    "version": 3
   },
   "file_extension": ".py",
   "mimetype": "text/x-python",
   "name": "python",
   "nbconvert_exporter": "python",
   "pygments_lexer": "ipython3",
   "version": "3.10.10"
  }
 },
 "nbformat": 4,
 "nbformat_minor": 5
}
