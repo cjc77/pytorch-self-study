{
 "cells": [
  {
   "cell_type": "code",
   "execution_count": 1,
   "id": "1bc5779d-357f-47bf-b7eb-86088cebf1e7",
   "metadata": {},
   "outputs": [],
   "source": [
    "import torch\n",
    "import numpy as np"
   ]
  },
  {
   "cell_type": "code",
   "execution_count": 2,
   "id": "4cccad20-7e6b-4d0d-9b42-0f841da3cc26",
   "metadata": {},
   "outputs": [
    {
     "data": {
      "text/plain": [
       "<torch._C.Generator at 0x7f253859c670>"
      ]
     },
     "execution_count": 2,
     "metadata": {},
     "output_type": "execute_result"
    }
   ],
   "source": [
    "torch.manual_seed(945673)"
   ]
  },
  {
   "cell_type": "code",
   "execution_count": 3,
   "id": "8ddeec4c-988e-4899-b597-01dcb5f89c66",
   "metadata": {},
   "outputs": [
    {
     "name": "stdout",
     "output_type": "stream",
     "text": [
      "tensor([[1, 2],\n",
      "        [3, 4]])\n",
      "torch.int64\n"
     ]
    }
   ],
   "source": [
    "data = [[1, 2], [3, 4]]\n",
    "x_data = torch.tensor(data)\n",
    "print(x_data)\n",
    "print(x_data.dtype)"
   ]
  },
  {
   "cell_type": "code",
   "execution_count": 4,
   "id": "b3ab923f-c8ef-4a5d-995f-59b1e351ada4",
   "metadata": {},
   "outputs": [
    {
     "name": "stdout",
     "output_type": "stream",
     "text": [
      "[[1 2]\n",
      " [3 4]]\n",
      "tensor([[1, 2],\n",
      "        [3, 4]])\n"
     ]
    }
   ],
   "source": [
    "np_array = np.array(data)\n",
    "print(np_array)\n",
    "x_np = torch.from_numpy(np_array)\n",
    "print(x_np)"
   ]
  },
  {
   "cell_type": "code",
   "execution_count": 5,
   "id": "783a54ca-227d-47c8-9970-f33202414b39",
   "metadata": {},
   "outputs": [
    {
     "name": "stdout",
     "output_type": "stream",
     "text": [
      "tensor([[1, 1],\n",
      "        [1, 1]])\n",
      "tensor([[0.6091, 0.3262],\n",
      "        [0.6054, 0.0556]])\n"
     ]
    }
   ],
   "source": [
    "x_ones = torch.ones_like(x_data)\n",
    "print(x_ones)\n",
    "x_rand = torch.rand_like(x_data, dtype=torch.float)\n",
    "print(x_rand)"
   ]
  },
  {
   "cell_type": "code",
   "execution_count": 6,
   "id": "6a184039-0ee6-470c-a779-27800aa7bb0f",
   "metadata": {},
   "outputs": [
    {
     "name": "stdout",
     "output_type": "stream",
     "text": [
      "tensor([[0.4611, 0.6640, 0.6787],\n",
      "        [0.4764, 0.6888, 0.8816]])\n",
      "tensor([[1., 1., 1.],\n",
      "        [1., 1., 1.]])\n",
      "tensor([[0., 0., 0.],\n",
      "        [0., 0., 0.]])\n"
     ]
    }
   ],
   "source": [
    "shape = (2, 3)\n",
    "rand_tensor = torch.rand(shape)\n",
    "print(rand_tensor)\n",
    "ones_tensor = torch.ones(shape)\n",
    "print(ones_tensor)\n",
    "zeros_tensor = torch.zeros(shape)\n",
    "print(zeros_tensor)"
   ]
  },
  {
   "cell_type": "code",
   "execution_count": 7,
   "id": "d11a52c8-b35e-4948-a426-245e4af26400",
   "metadata": {},
   "outputs": [
    {
     "name": "stdout",
     "output_type": "stream",
     "text": [
      "tensor([[0.6797, 0.8945, 0.7646, 0.3660],\n",
      "        [0.1215, 0.5605, 0.2480, 0.6530],\n",
      "        [0.1058, 0.9521, 0.4973, 0.8450]])\n",
      "torch.Size([3, 4])\n",
      "torch.Size([3, 4])\n",
      "torch.float32\n",
      "cpu\n",
      "cuda:0\n",
      "cpu\n"
     ]
    }
   ],
   "source": [
    "tensor = torch.rand((3, 4))\n",
    "print(tensor)\n",
    "print(tensor.shape)\n",
    "print(tensor.size())\n",
    "print(tensor.dtype)\n",
    "print(tensor.device)\n",
    "if torch.cuda.is_available():\n",
    "    tensor = tensor.to(torch.device(\"cuda:0\"))\n",
    "print(tensor.device)\n",
    "tensor = tensor.to(torch.device(\"cpu\"))\n",
    "print(tensor.device)"
   ]
  },
  {
   "cell_type": "code",
   "execution_count": 8,
   "id": "098bd127-a6ed-472e-a3f6-2985a641ebb7",
   "metadata": {},
   "outputs": [
    {
     "name": "stdout",
     "output_type": "stream",
     "text": [
      "tensor([[0.6091, 0.3262, 0.6054, 0.0556],\n",
      "        [0.4611, 0.6640, 0.6787, 0.4764],\n",
      "        [0.6888, 0.8816, 0.6797, 0.8945],\n",
      "        [0.7646, 0.3660, 0.1215, 0.5605]])\n",
      "tensor([0.6091, 0.3262, 0.6054, 0.0556])\n",
      "tensor([[0.6091, 0.3262, 0.6054, 0.0556]])\n",
      "tensor([0.6091, 0.4611, 0.6888, 0.7646])\n",
      "tensor([[0.6091],\n",
      "        [0.4611],\n",
      "        [0.6888],\n",
      "        [0.7646]])\n",
      "tensor([[0.0556],\n",
      "        [0.4764],\n",
      "        [0.8945],\n",
      "        [0.5605]])\n"
     ]
    }
   ],
   "source": [
    "torch.manual_seed(945673)\n",
    "tensor = torch.rand((4, 4))\n",
    "print(tensor)\n",
    "print(tensor[0])\n",
    "# Keep dimensions\n",
    "print(tensor[0:1])\n",
    "# ... = handle as many previous dimensions as there are\n",
    "# E.g., [:, :, ..., :, 1]\n",
    "print(tensor[...,0])\n",
    "# Keep dimensions\n",
    "print(tensor[...,0:1])\n",
    "print(tensor[:,-1][..., None])"
   ]
  },
  {
   "cell_type": "code",
   "execution_count": 9,
   "id": "063bfc39-6d51-4a5b-967e-c40b1548ed05",
   "metadata": {},
   "outputs": [
    {
     "name": "stdout",
     "output_type": "stream",
     "text": [
      "tensor([[0.6091, 0.3262, 0.6054, 0.0556, 1.2183, 0.6524, 1.2107, 0.1112],\n",
      "        [0.4611, 0.6640, 0.6787, 0.4764, 0.9221, 1.3279, 1.3575, 0.9528],\n",
      "        [0.6888, 0.8816, 0.6797, 0.8945, 1.3777, 1.7632, 1.3595, 1.7890],\n",
      "        [0.7646, 0.3660, 0.1215, 0.5605, 1.5291, 0.7319, 0.2430, 1.1211]])\n",
      "tensor([[[0.6091, 0.3262, 0.6054, 0.0556],\n",
      "         [0.4611, 0.6640, 0.6787, 0.4764],\n",
      "         [0.6888, 0.8816, 0.6797, 0.8945],\n",
      "         [0.7646, 0.3660, 0.1215, 0.5605]],\n",
      "\n",
      "        [[1.2183, 0.6524, 1.2107, 0.1112],\n",
      "         [0.9221, 1.3279, 1.3575, 0.9528],\n",
      "         [1.3777, 1.7632, 1.3595, 1.7890],\n",
      "         [1.5291, 0.7319, 0.2430, 1.1211]]])\n"
     ]
    }
   ],
   "source": [
    "cat_tensor = torch.cat([tensor, tensor * 2], dim=1)\n",
    "print(cat_tensor)\n",
    "stack_tensor = torch.stack([tensor, tensor * 2], dim=0)\n",
    "print(stack_tensor)"
   ]
  },
  {
   "cell_type": "code",
   "execution_count": 13,
   "id": "dfbf7f9f-221c-4e01-897e-dab1ff9627af",
   "metadata": {},
   "outputs": [
    {
     "name": "stdout",
     "output_type": "stream",
     "text": [
      "tensor([[0.8470, 0.9348, 1.1684, 0.6898],\n",
      "        [0.9348, 1.3411, 1.7905, 0.9450],\n",
      "        [1.1684, 1.7905, 2.5139, 1.4333],\n",
      "        [0.6898, 0.9450, 1.4333, 1.0475]])\n",
      "tensor([[0.8470, 0.9348, 1.1684, 0.6898],\n",
      "        [0.9348, 1.3411, 1.7905, 0.9450],\n",
      "        [1.1684, 1.7905, 2.5139, 1.4333],\n",
      "        [0.6898, 0.9450, 1.4333, 1.0475]])\n",
      "tensor([[0.8470, 0.9348, 1.1684, 0.6898],\n",
      "        [0.9348, 1.3411, 1.7905, 0.9450],\n",
      "        [1.1684, 1.7905, 2.5139, 1.4333],\n",
      "        [0.6898, 0.9450, 1.4333, 1.0475]])\n",
      "tensor([[0.3710, 0.1064, 0.3665, 0.0031],\n",
      "        [0.2126, 0.4409, 0.4607, 0.2270],\n",
      "        [0.4745, 0.7772, 0.4620, 0.8001],\n",
      "        [0.5846, 0.1339, 0.0148, 0.3142]])\n",
      "tensor([[0.3710, 0.1064, 0.3665, 0.0031],\n",
      "        [0.2126, 0.4409, 0.4607, 0.2270],\n",
      "        [0.4745, 0.7772, 0.4620, 0.8001],\n",
      "        [0.5846, 0.1339, 0.0148, 0.3142]])\n",
      "tensor([[0.3710, 0.1064, 0.3665, 0.0031],\n",
      "        [0.2126, 0.4409, 0.4607, 0.2270],\n",
      "        [0.4745, 0.7772, 0.4620, 0.8001],\n",
      "        [0.5846, 0.1339, 0.0148, 0.3142]])\n"
     ]
    }
   ],
   "source": [
    "y1 = tensor @ tensor.T\n",
    "print(y1)\n",
    "y2 = tensor.matmul(tensor.T)\n",
    "print(y2)\n",
    "y3 = torch.zeros_like(y1)\n",
    "torch.matmul(tensor, tensor.T, out=y3)\n",
    "print(y3)\n",
    "\n",
    "z1 = tensor * tensor\n",
    "print(z1)\n",
    "z2 = tensor.mul(tensor)\n",
    "print(z2)\n",
    "\n",
    "z3 = torch.zeros_like(z1)\n",
    "torch.mul(tensor, tensor, out=z3)\n",
    "print(z3)"
   ]
  },
  {
   "cell_type": "code",
   "execution_count": 18,
   "id": "12276a0d-e45f-4091-9dcf-3db480ba9f44",
   "metadata": {},
   "outputs": [
    {
     "name": "stdout",
     "output_type": "stream",
     "text": [
      "tensor(8.8337)\n",
      "8.833694458007812\n",
      "<class 'float'>\n"
     ]
    }
   ],
   "source": [
    "agg = tensor.sum()\n",
    "print(agg)\n",
    "agg_item = agg.item()\n",
    "print(agg_item)\n",
    "print(type(agg_item))"
   ]
  },
  {
   "cell_type": "code",
   "execution_count": 20,
   "id": "9503e961-67c0-4e69-a647-a99d870df636",
   "metadata": {},
   "outputs": [
    {
     "name": "stdout",
     "output_type": "stream",
     "text": [
      "tensor([[0.6091, 0.3262, 0.6054, 0.0556],\n",
      "        [0.4611, 0.6640, 0.6787, 0.4764],\n",
      "        [0.6888, 0.8816, 0.6797, 0.8945],\n",
      "        [0.7646, 0.3660, 0.1215, 0.5605]])\n",
      "tensor([[5.6091, 5.3262, 5.6054, 5.0556],\n",
      "        [5.4611, 5.6640, 5.6787, 5.4764],\n",
      "        [5.6888, 5.8816, 5.6797, 5.8945],\n",
      "        [5.7646, 5.3660, 5.1215, 5.5605]])\n"
     ]
    }
   ],
   "source": [
    "tensor_copy = torch.clone(tensor)\n",
    "print(tensor_copy)\n",
    "tensor_copy.add_(5)\n",
    "print(tensor_copy)"
   ]
  },
  {
   "cell_type": "code",
   "execution_count": 23,
   "id": "a58f8d33-4a05-42e0-8014-58e48e5048c0",
   "metadata": {},
   "outputs": [
    {
     "name": "stdout",
     "output_type": "stream",
     "text": [
      "tensor([1., 1., 1., 1., 1.])\n",
      "[1. 1. 1. 1. 1.]\n",
      "tensor([2., 2., 2., 2., 2.])\n",
      "[2. 2. 2. 2. 2.]\n"
     ]
    }
   ],
   "source": [
    "t = torch.ones(5)\n",
    "print(t)\n",
    "n = t.numpy()\n",
    "print(n)\n",
    "\n",
    "t.add_(1)\n",
    "print(t)\n",
    "print(n)"
   ]
  },
  {
   "cell_type": "code",
   "execution_count": 25,
   "id": "8ddf64be-492b-46e4-8f88-b1c67d2c9cad",
   "metadata": {},
   "outputs": [
    {
     "name": "stdout",
     "output_type": "stream",
     "text": [
      "[1. 1. 1. 1. 1.]\n",
      "tensor([1., 1., 1., 1., 1.], dtype=torch.float64)\n",
      "[2. 2. 2. 2. 2.]\n",
      "tensor([2., 2., 2., 2., 2.], dtype=torch.float64)\n"
     ]
    }
   ],
   "source": [
    "n2 = np.ones(5)\n",
    "print(n2)\n",
    "t2 = torch.from_numpy(n2)\n",
    "print(t2)\n",
    "np.add(n2, 1, out=n2)\n",
    "print(n2)\n",
    "print(t2)"
   ]
  },
  {
   "cell_type": "code",
   "execution_count": null,
   "id": "3fd1278c-7e20-409c-bd25-ab31365fad09",
   "metadata": {},
   "outputs": [],
   "source": []
  }
 ],
 "metadata": {
  "kernelspec": {
   "display_name": "Python 3 (ipykernel)",
   "language": "python",
   "name": "python3"
  },
  "language_info": {
   "codemirror_mode": {
    "name": "ipython",
    "version": 3
   },
   "file_extension": ".py",
   "mimetype": "text/x-python",
   "name": "python",
   "nbconvert_exporter": "python",
   "pygments_lexer": "ipython3",
   "version": "3.10.10"
  }
 },
 "nbformat": 4,
 "nbformat_minor": 5
}
