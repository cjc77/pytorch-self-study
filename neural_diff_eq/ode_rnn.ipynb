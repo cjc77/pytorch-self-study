{
 "cells": [
  {
   "cell_type": "code",
   "execution_count": 1,
   "id": "4213f668-43ed-4c5a-9938-92c7b0b0b4cf",
   "metadata": {},
   "outputs": [],
   "source": [
    "import numpy as np\n",
    "import seaborn as sns\n",
    "import matplotlib.pyplot as plt\n",
    "\n",
    "import torch\n",
    "import torch.nn as nn\n",
    "import torch.nn.functional as F\n",
    "from torch.optim import AdamW\n",
    "import torch.utils.data as data\n",
    "import lightning.pytorch as pl\n",
    "from lightning.pytorch.utilities.model_summary import ModelSummary"
   ]
  },
  {
   "cell_type": "code",
   "execution_count": 2,
   "id": "6f8273c5-d5bf-4aa0-b0a1-76a9444fb9c2",
   "metadata": {},
   "outputs": [],
   "source": [
    "device = torch.device(\"cuda:0\" if torch.cuda.is_available() else \"cpu\")\n",
    "\n",
    "# Number of sequences\n",
    "N = 100\n",
    "# Max sequence length\n",
    "M = 60\n",
    "t_max = 10\n",
    "t_min = 2\n",
    "# Process noise\n",
    "pn = 0.5\n",
    "# Measurement noise\n",
    "mn = 0.3\n",
    "b = 0.01\n",
    "\n",
    "# 1 dim for x, 1 dim for t\n",
    "input_dim = 2\n",
    "hidden_dim = 16\n",
    "latent_dim = 4\n",
    "mlp_layers = 3\n",
    "enc_layers = 3\n",
    "dec_layers = 3\n",
    "\n",
    "# Will need to be 1 for how handling RNN later\n",
    "n_epochs = 50\n",
    "batch_size = 1\n",
    "\n",
    "# HPs\n",
    "beta = 0.1\n",
    "lr=1e-4"
   ]
  },
  {
   "cell_type": "code",
   "execution_count": 3,
   "id": "ed775bc9-221d-4ef7-8aad-35824003181e",
   "metadata": {},
   "outputs": [],
   "source": [
    "np.random.seed(42)"
   ]
  },
  {
   "cell_type": "code",
   "execution_count": 4,
   "id": "b8fe28d3-222e-4e32-8d49-b1e9b786bfea",
   "metadata": {},
   "outputs": [],
   "source": [
    "tspan = np.linspace(t_min, t_max, M)"
   ]
  },
  {
   "cell_type": "code",
   "execution_count": 5,
   "id": "d5f8cbdf-7718-45a4-8943-99f4ccbbe1a4",
   "metadata": {},
   "outputs": [],
   "source": [
    "# Growth function\n",
    "def g(x, b, t, pn):\n",
    "    eps_p = np.random.normal(scale=pn, size=x.shape[0])\n",
    "    return x + b * x + np.cos(np.pi * t) + eps_p"
   ]
  },
  {
   "cell_type": "code",
   "execution_count": 6,
   "id": "db361b3f-8e18-4a71-bc3c-41b0bb1e484d",
   "metadata": {},
   "outputs": [],
   "source": [
    "# Z is the latent variable\n",
    "z0 = np.random.normal(size=N)\n",
    "Z = np.zeros((N, M))\n",
    "Z[:, 0] = z0\n",
    "for m in range(M):\n",
    "    Z[:, m] = g(Z[:, m-1], b, tspan[m], pn)"
   ]
  },
  {
   "cell_type": "code",
   "execution_count": 7,
   "id": "a0198d81-a00b-4ce8-b9d1-fd2f1a8d7abc",
   "metadata": {},
   "outputs": [],
   "source": [
    "eps_m = np.random.normal(scale=mn, size=Z.shape)\n",
    "X = Z + eps_m"
   ]
  },
  {
   "cell_type": "code",
   "execution_count": 8,
   "id": "556e7f20-9950-4cd2-aaf9-2fedf3b6511a",
   "metadata": {},
   "outputs": [],
   "source": [
    "Z = torch.tensor(Z, dtype=torch.float32)\n",
    "X = torch.tensor(X, dtype=torch.float32)\n",
    "tspan = torch.tensor(tspan, dtype=torch.float32)"
   ]
  },
  {
   "cell_type": "code",
   "execution_count": 9,
   "id": "89194476-33db-4a58-843d-ff29a5dad1a3",
   "metadata": {},
   "outputs": [
    {
     "data": {
      "image/png": "[encoded data removed]",
      "text/plain": [
       "<Figure size 640x480 with 1 Axes>"
      ]
     },
     "metadata": {},
     "output_type": "display_data"
    }
   ],
   "source": [
    "sns.scatterplot(x = tspan, y = Z[10])\n",
    "sns.scatterplot(x = tspan, y = X[10])\n",
    "# sns.scatterplot(x = tspan, y = np.cos(np.pi * tspan))\n",
    "plt.show()"
   ]
  },
  {
   "cell_type": "code",
   "execution_count": 10,
   "id": "9cba8e24-76c2-43bf-acfe-1b9c264b0c91",
   "metadata": {},
   "outputs": [],
   "source": [
    "class SimpleMLP(nn.Module):\n",
    "    def __init__(self, input_dim, hidden_dim, output_dim, num_layers, activation_fn=F.relu):\n",
    "        super().__init__()\n",
    "        self.input_dim = input_dim\n",
    "        self.hidden_dim = hidden_dim\n",
    "        self.output_dim = output_dim\n",
    "        self.num_layers = num_layers\n",
    "        self.activation_fn = activation_fn\n",
    "\n",
    "        self.layers = nn.ModuleList()\n",
    "        for i in range(self.num_layers - 1):\n",
    "            prev_dim = self.input_dim if i == 0 else self.hidden_dim\n",
    "            self.layers.append(nn.Linear(prev_dim, self.hidden_dim))\n",
    "           \n",
    "        penult_dim = self.input_dim if num_layers == 1 else self.hidden_dim\n",
    "        self.final_layer = nn.Linear(penult_dim, self.output_dim)\n",
    "\n",
    "    def forward(self, x):\n",
    "        for i in range(self.num_layers - 1):\n",
    "            x = self.activation_fn(self.layers[i](x))\n",
    "        return self.final_layer(x)"
   ]
  },
  {
   "cell_type": "code",
   "execution_count": 11,
   "id": "4301d24c-b1e1-4573-ba53-3163509b7660",
   "metadata": {},
   "outputs": [],
   "source": [
    "# TODO:\n",
    "# (2) Swap RNN #2 for a Neural DE\n",
    "class LitVAE(pl.LightningModule):\n",
    "    def __init__(self, input_dim, hidden_dim, latent_dim, enc_layers, dec_layers, activation_fn=F.relu, criterion=nn.MSELoss(), lr=1e-3, beta=1.0, reverse=False):\n",
    "        super().__init__()\n",
    "        self.input_dim = input_dim\n",
    "        self.hidden_dim = hidden_dim\n",
    "        self.latent_dim = latent_dim\n",
    "        self.enc_layers = enc_layers\n",
    "        self.dec_layers = dec_layers\n",
    "        self.activation_fn = activation_fn\n",
    "        self.criterion = criterion\n",
    "        self.lr = lr\n",
    "        self.beta = beta\n",
    "        # Encode input in reverse order\n",
    "        self.reverse = reverse\n",
    "\n",
    "        self.encoder = nn.GRU(self.input_dim, self.hidden_dim, num_layers=self.enc_layers, batch_first=True)\n",
    "        self.enc2mean = nn.Linear(self.hidden_dim, self.latent_dim)\n",
    "        self.enc2logvar = nn.Linear(self.hidden_dim, self.latent_dim)\n",
    "        # Exclude time dimension\n",
    "        self.latent2out = nn.Linear(self.latent_dim, self.input_dim - 1)\n",
    "        # Include time dimension\n",
    "        self.decoder = nn.GRU(self.input_dim, self.hidden_dim, num_layers=self.enc_layers, batch_first=True)\n",
    "        # Exclude time dimension\n",
    "        self.hidden2out = nn.Linear(self.hidden_dim, self.input_dim - 1)\n",
    "\n",
    "    def forward(self, x, tspan_q):\n",
    "        # tspan_q is the query tspan (tspan for decoding)\n",
    "        # since you may want decoding for held-out data, times\n",
    "        # that were unobserved\n",
    "        _, _, _, x_dec = self._forward(x, tspan_q)\n",
    "        return x_dec\n",
    "    \n",
    "    def training_step(self, batch, batch_idx):\n",
    "        x, tspan_q = batch\n",
    "        \n",
    "        mean_z, logvar_z, z, x_dec = self._forward(x, tspan_q.squeeze(0))\n",
    "        \n",
    "        # Allow for more complex priors\n",
    "        mean_prior = torch.zeros_like(mean_z)\n",
    "        logvar_prior = torch.zeros_like(logvar_z)\n",
    "\n",
    "        loss_recon = self.criterion(x_dec, x)\n",
    "        loss_kl = self._kl_div(mean_z, logvar_z, mean_prior, logvar_prior)\n",
    "        loss = loss_recon + self.beta * loss_kl\n",
    "        self.log(\"train_recon_loss\", loss_recon, on_step=False, on_epoch=True, prog_bar=True)\n",
    "        self.log(\"train_kl_loss\", loss_kl, on_step=False, on_epoch=True, prog_bar=True)\n",
    "        self.log(\"train_loss\", loss, on_step=False, on_epoch=True, prog_bar=True)\n",
    "        return loss\n",
    "\n",
    "    def configure_optimizers(self):\n",
    "        return AdamW(self.parameters(), lr=self.lr, amsgrad=True)\n",
    "        \n",
    "    def _forward(self, x, tspan_q):\n",
    "        # Output will be of size (batch_size, seq_len, inp_size)\n",
    "        # Only grab the last output\n",
    "        # x_enc, h = self.encoder(x)\n",
    "        # x_enc = x_enc[:, -1, :]\n",
    "\n",
    "        x_fwd = x.flip(dims=[1]) if self.reverse else x\n",
    "        _, h = self.encoder(x_fwd)\n",
    "        x_enc = h[-1]\n",
    "\n",
    "        # Compute latent parameters and sample\n",
    "        mean_z = self.enc2mean(x_enc)\n",
    "        logvar_z = self.enc2logvar(x_enc)\n",
    "        z = self._reparam(mean_z, logvar_z)\n",
    "\n",
    "        # Get starting hidden state for decoding\n",
    "        # Hidden state shape is (n_layers, batch_size, hidden_dim)\n",
    "        h = torch.zeros(self.dec_layers, x.shape[0], self.hidden_dim).to(self.device)\n",
    "\n",
    "        # Destination for decoded x, since t dimension is included in input\n",
    "        # dimensions, subtract 1 (we aren't predicting t_q since it's input)\n",
    "        x_dec = torch.zeros(x.shape[0], tspan_q.shape[0], self.input_dim - 1).to(self.device)\n",
    "        \n",
    "        # Decode z into data space, include a sequence dimension\n",
    "        x_z = self.latent2out(z)[:, None, :]\n",
    "        \n",
    "        for i, t in enumerate(tspan_q):\n",
    "            # Concatenate t with x_z\n",
    "            # Need to broadcast t from shape () to shape (batch_size, 1, 1)\n",
    "            xt_z = torch.concat((x_z, t[None, None, None].expand(x_z.shape[0], -1, -1)), dim=-1)\n",
    "            \n",
    "            # Predict output for tspan_q[i]\n",
    "            x_dec_t, h = self.decoder(xt_z, h)\n",
    "            x_dec_t = self.hidden2out(x_dec_t.squeeze(1))\n",
    "            x_dec[:, i, :] = x_dec_t\n",
    "            \n",
    "            # Use predicted output as next input\n",
    "            x_z = x_dec_t.unsqueeze(0)\n",
    "            \n",
    "        return mean_z, logvar_z, z, x_dec\n",
    "\n",
    "    def _reparam(self, mean, logvar):\n",
    "        sd = torch.exp(0.5 * logvar)\n",
    "        eps = torch.randn_like(sd)\n",
    "        return mean + eps * sd\n",
    "\n",
    "    def _kl_div(self, mean, logvar, mean_prior, logvar_prior):\n",
    "        kl_div = 0.5 * (logvar_prior - logvar + (torch.exp(logvar) + (mean - mean_prior)**2) / torch.exp(logvar_prior) - 1)\n",
    "        return kl_div.sum(dim=-1)"
   ]
  },
  {
   "cell_type": "code",
   "execution_count": 12,
   "id": "9b8d12c3-ea16-462a-aeec-cd730fa66d55",
   "metadata": {},
   "outputs": [],
   "source": [
    "X_ = X[:, :, None]\n",
    "tspan_ = tspan[None, :, None].expand(X_.shape[0], -1, -1)\n",
    "tspan_q = tspan.expand(X_.shape[0], -1)\n",
    "Y = torch.cat((X_, tspan_), dim=2)"
   ]
  },
  {
   "cell_type": "code",
   "execution_count": 13,
   "id": "ec8d5e2a-0636-416e-8f7a-1fd2f4003398",
   "metadata": {},
   "outputs": [],
   "source": [
    "n_train = int(N * 0.8)\n",
    "n_val = int(N - n_train)"
   ]
  },
  {
   "cell_type": "code",
   "execution_count": 14,
   "id": "91c85dc2-3531-492e-9ed3-f533a4a7151b",
   "metadata": {},
   "outputs": [],
   "source": [
    "# train_dataset = data.TensorDataset(Y[:n_train])\n",
    "train_dataset = data.TensorDataset(Y[:n_train], tspan_q[:n_train])\n",
    "train_loader = data.DataLoader(train_dataset, batch_size=batch_size, shuffle=True)"
   ]
  },
  {
   "cell_type": "code",
   "execution_count": 15,
   "id": "eb838a16-b5b9-4216-bdc5-bba2c65dae60",
   "metadata": {},
   "outputs": [],
   "source": [
    "for i, batch in enumerate(train_loader):\n",
    "    if i == 0:\n",
    "        break"
   ]
  },
  {
   "cell_type": "code",
   "execution_count": 16,
   "id": "3f2223ca-b856-4001-aadc-6de7f107c7f9",
   "metadata": {},
   "outputs": [],
   "source": [
    "x, tspan_q = batch"
   ]
  },
  {
   "cell_type": "code",
   "execution_count": 17,
   "id": "77b9f9ab-8512-4b41-8757-d488839aa263",
   "metadata": {},
   "outputs": [
    {
     "name": "stdout",
     "output_type": "stream",
     "text": [
      "torch.Size([1, 60, 2])\n",
      "torch.Size([1, 60])\n"
     ]
    }
   ],
   "source": [
    "print(x.shape)\n",
    "print(tspan_q.shape)"
   ]
  },
  {
   "cell_type": "code",
   "execution_count": 18,
   "id": "4c881f38-c7b8-47d2-a734-599dd86e13c8",
   "metadata": {},
   "outputs": [
    {
     "data": {
      "text/plain": [
       "torch.Size([60])"
      ]
     },
     "execution_count": 18,
     "metadata": {},
     "output_type": "execute_result"
    }
   ],
   "source": [
    "tspan_q.squeeze(0).shape"
   ]
  },
  {
   "cell_type": "code",
   "execution_count": 19,
   "id": "39975b58-c1e0-4e1f-89d1-b5e332b3de98",
   "metadata": {},
   "outputs": [],
   "source": [
    "# 1 fewer encoder layer, since have extra enc -> mean & enc -> logvar layers\n",
    "model = LitVAE(input_dim, hidden_dim, latent_dim, enc_layers, dec_layers, activation_fn=F.elu, beta=beta, reverse=True)"
   ]
  },
  {
   "cell_type": "code",
   "execution_count": 20,
   "id": "2edcf261-4434-4fa3-a7bb-ad2952e49e4d",
   "metadata": {},
   "outputs": [
    {
     "data": {
      "text/plain": [
       "tensor([[[0.1683],\n",
       "         [0.2054],\n",
       "         [0.2267]]], grad_fn=<CopySlices>)"
      ]
     },
     "execution_count": 20,
     "metadata": {},
     "output_type": "execute_result"
    }
   ],
   "source": [
    "model(batch[0], torch.tensor([1.0, 1.1, 1.2]))"
   ]
  },
  {
   "cell_type": "code",
   "execution_count": 21,
   "id": "31e8712a-43ae-44c8-aa43-bf6732f0fe5b",
   "metadata": {},
   "outputs": [
    {
     "data": {
      "text/plain": [
       "  | Name       | Type    | Params\n",
       "---------------------------------------\n",
       "0 | criterion  | MSELoss | 0     \n",
       "1 | encoder    | GRU     | 4.2 K \n",
       "2 | enc2mean   | Linear  | 68    \n",
       "3 | enc2logvar | Linear  | 68    \n",
       "4 | latent2out | Linear  | 5     \n",
       "5 | decoder    | GRU     | 4.2 K \n",
       "6 | hidden2out | Linear  | 17    \n",
       "---------------------------------------\n",
       "8.6 K     Trainable params\n",
       "0         Non-trainable params\n",
       "8.6 K     Total params\n",
       "0.034     Total estimated model params size (MB)"
      ]
     },
     "execution_count": 21,
     "metadata": {},
     "output_type": "execute_result"
    }
   ],
   "source": [
    "ModelSummary(model)"
   ]
  },
  {
   "cell_type": "code",
   "execution_count": 22,
   "id": "19d9842a-873d-4681-9f46-6d022b790569",
   "metadata": {},
   "outputs": [
    {
     "data": {
      "text/plain": [
       "LitVAE(\n",
       "  (criterion): MSELoss()\n",
       "  (encoder): GRU(2, 16, num_layers=3, batch_first=True)\n",
       "  (enc2mean): Linear(in_features=16, out_features=4, bias=True)\n",
       "  (enc2logvar): Linear(in_features=16, out_features=4, bias=True)\n",
       "  (latent2out): Linear(in_features=4, out_features=1, bias=True)\n",
       "  (decoder): GRU(2, 16, num_layers=3, batch_first=True)\n",
       "  (hidden2out): Linear(in_features=16, out_features=1, bias=True)\n",
       ")"
      ]
     },
     "execution_count": 22,
     "metadata": {},
     "output_type": "execute_result"
    }
   ],
   "source": [
    "model"
   ]
  },
  {
   "cell_type": "code",
   "execution_count": 23,
   "id": "59751541-94d9-4371-a372-ea6cd3e9ccaf",
   "metadata": {},
   "outputs": [],
   "source": [
    "accelerator = \"gpu\" if device.type == \"cuda\" else \"cpu\""
   ]
  },
  {
   "cell_type": "code",
   "execution_count": 24,
   "id": "f8ec3029-1845-4738-b929-8bb9fd1889b4",
   "metadata": {},
   "outputs": [
    {
     "name": "stderr",
     "output_type": "stream",
     "text": [
      "GPU available: True (cuda), used: True\n",
      "TPU available: False, using: 0 TPU cores\n",
      "IPU available: False, using: 0 IPUs\n",
      "HPU available: False, using: 0 HPUs\n",
      "Running in `fast_dev_run` mode: will run the requested loop using 1 batch(es). Logging and checkpointing is suppressed.\n",
      "LOCAL_RANK: 0 - CUDA_VISIBLE_DEVICES: [0]\n",
      "\n",
      "  | Name       | Type    | Params\n",
      "---------------------------------------\n",
      "0 | criterion  | MSELoss | 0     \n",
      "1 | encoder    | GRU     | 4.2 K \n",
      "2 | enc2mean   | Linear  | 68    \n",
      "3 | enc2logvar | Linear  | 68    \n",
      "4 | latent2out | Linear  | 5     \n",
      "5 | decoder    | GRU     | 4.2 K \n",
      "6 | hidden2out | Linear  | 17    \n",
      "---------------------------------------\n",
      "8.6 K     Trainable params\n",
      "0         Non-trainable params\n",
      "8.6 K     Total params\n",
      "0.034     Total estimated model params size (MB)\n",
      "/home/carcook/anaconda3/envs/torchdyn-env/lib/python3.10/site-packages/lightning/pytorch/trainer/connectors/data_connector.py:432: PossibleUserWarning: The dataloader, train_dataloader, does not have many workers which may be a bottleneck. Consider increasing the value of the `num_workers` argument` (try 16 which is the number of cpus on this machine) in the `DataLoader` init to improve performance.\n",
      "  rank_zero_warn(\n",
      "/home/carcook/anaconda3/envs/torchdyn-env/lib/python3.10/site-packages/lightning/pytorch/loops/fit_loop.py:280: PossibleUserWarning: The number of training batches (1) is smaller than the logging interval Trainer(log_every_n_steps=50). Set a lower value for log_every_n_steps if you want to see logs for the training epoch.\n",
      "  rank_zero_warn(\n"
     ]
    },
    {
     "data": {
      "application/vnd.jupyter.widget-view+json": {
       "model_id": "35348c6abb86463d9972f5f199024269",
       "version_major": 2,
       "version_minor": 0
      },
      "text/plain": [
       "Training: 0it [00:00, ?it/s]"
      ]
     },
     "metadata": {},
     "output_type": "display_data"
    },
    {
     "name": "stderr",
     "output_type": "stream",
     "text": [
      "/home/carcook/anaconda3/envs/torchdyn-env/lib/python3.10/site-packages/torch/nn/modules/loss.py:536: UserWarning: Using a target size (torch.Size([1, 60, 2])) that is different to the input size (torch.Size([1, 60, 1])). This will likely lead to incorrect results due to broadcasting. Please ensure they have the same size.\n",
      "  return F.mse_loss(input, target, reduction=self.reduction)\n",
      "`Trainer.fit` stopped: `max_steps=1` reached.\n"
     ]
    }
   ],
   "source": [
    "trainer_dev = pl.Trainer(accelerator=accelerator, fast_dev_run=1)\n",
    "trainer_dev.fit(model, train_dataloaders=train_loader)"
   ]
  },
  {
   "cell_type": "code",
   "execution_count": 26,
   "id": "1f7379a8-8977-4183-990c-d9ccfe0d1fac",
   "metadata": {},
   "outputs": [
    {
     "name": "stderr",
     "output_type": "stream",
     "text": [
      "GPU available: True (cuda), used: True\n",
      "TPU available: False, using: 0 TPU cores\n",
      "IPU available: False, using: 0 IPUs\n",
      "HPU available: False, using: 0 HPUs\n",
      "LOCAL_RANK: 0 - CUDA_VISIBLE_DEVICES: [0]\n",
      "\n",
      "  | Name       | Type    | Params\n",
      "---------------------------------------\n",
      "0 | criterion  | MSELoss | 0     \n",
      "1 | encoder    | GRU     | 4.2 K \n",
      "2 | enc2mean   | Linear  | 68    \n",
      "3 | enc2logvar | Linear  | 68    \n",
      "4 | latent2out | Linear  | 5     \n",
      "5 | decoder    | GRU     | 4.2 K \n",
      "6 | hidden2out | Linear  | 17    \n",
      "---------------------------------------\n",
      "8.6 K     Trainable params\n",
      "0         Non-trainable params\n",
      "8.6 K     Total params\n",
      "0.034     Total estimated model params size (MB)\n"
     ]
    },
    {
     "data": {
      "application/vnd.jupyter.widget-view+json": {
       "model_id": "072908509daf435996f837f34b51fb1a",
       "version_major": 2,
       "version_minor": 0
      },
      "text/plain": [
       "Training: 0it [00:00, ?it/s]"
      ]
     },
     "metadata": {},
     "output_type": "display_data"
    }
   ],
   "source": [
    "model = LitVAE(input_dim, hidden_dim, latent_dim, enc_layers, dec_layers, activation_fn=F.elu, beta=beta, reverse=False)\n",
    "trainer = pl.Trainer(\n",
    "    accelerator=accelerator,\n",
    "    max_epochs=n_epochs,\n",
    "    gradient_clip_algorithm=\"norm\",\n",
    "    gradient_clip_val=1.0,\n",
    "    # callbacks=[RichProgressBar()],\n",
    "    default_root_dir=\"lightning_logs_ode_rnn\"\n",
    ")\n",
    "trainer.fit(model, train_dataloaders=train_loader)"
   ]
  },
  {
   "cell_type": "code",
   "execution_count": null,
   "id": "b9c6669d-492a-449a-b18b-222aef9794c0",
   "metadata": {},
   "outputs": [],
   "source": []
  },
  {
   "cell_type": "code",
   "execution_count": null,
   "id": "053c788d-9c96-454a-ad30-5fc5779115a7",
   "metadata": {},
   "outputs": [],
   "source": []
  }
 ],
 "metadata": {
  "kernelspec": {
   "display_name": "Python 3 (ipykernel)",
   "language": "python",
   "name": "python3"
  },
  "language_info": {
   "codemirror_mode": {
    "name": "ipython",
    "version": 3
   },
   "file_extension": ".py",
   "mimetype": "text/x-python",
   "name": "python",
   "nbconvert_exporter": "python",
   "pygments_lexer": "ipython3",
   "version": "3.10.11"
  }
 },
 "nbformat": 4,
 "nbformat_minor": 5
}
