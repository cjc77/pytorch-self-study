{
 "cells": [
  {
   "cell_type": "code",
   "execution_count": 11,
   "id": "67eafe1e-fef8-4aa5-bbde-be8d010c0a4f",
   "metadata": {},
   "outputs": [],
   "source": [
    "import numpy as np\n",
    "import torch\n",
    "import torch.nn as nn\n",
    "import torch.nn.functional as F"
   ]
  },
  {
   "cell_type": "code",
   "execution_count": 6,
   "id": "becc1707-8cec-4833-ab15-65a40f2ee3ac",
   "metadata": {},
   "outputs": [],
   "source": [
    "class LeNet(nn.Module):\n",
    "    \n",
    "    def __init__(self):\n",
    "        super().__init__()\n",
    "        \n",
    "        self.conv1 = nn.Conv2d(1, 6, 5)\n",
    "        self.conv2 = nn.Conv2d(6, 16, 5)\n",
    "        \n",
    "        self.fc1 = nn.Linear(16 * 5 * 5, 120)\n",
    "        self.fc2 = nn.Linear(120, 84)\n",
    "        self.fc3 = nn.Linear(84, 10)\n",
    "        \n",
    "    def forward(self, x):\n",
    "        x = F.max_pool2d(F.relu(self.conv1(x)), 2)\n",
    "        x = F.max_pool2d(F.relu(self.conv2(x)), 2)\n",
    "        # Flatten out pre-FC layers\n",
    "        # -1 captures batch dimension through inference\n",
    "        x = x.view((-1, self.num_flat_features(x)))\n",
    "        x = F.relu(self.fc1(x))\n",
    "        x = F.relu(self.fc2(x))\n",
    "        # Linear output layer\n",
    "        x = self.fc3(x)\n",
    "        return x\n",
    "    \n",
    "    def num_flat_features(self, x):\n",
    "        # Get non-batch dimensions\n",
    "        size = x.size()[1:]\n",
    "        # Multiply sizes of remaining dimensions\n",
    "        return np.prod(size)\n"
   ]
  },
  {
   "cell_type": "code",
   "execution_count": 7,
   "id": "710ac1fc-4551-467c-8c58-a37f72a75c14",
   "metadata": {},
   "outputs": [
    {
     "name": "stdout",
     "output_type": "stream",
     "text": [
      "LeNet(\n",
      "  (conv1): Conv2d(1, 6, kernel_size=(5, 5), stride=(1, 1))\n",
      "  (conv2): Conv2d(6, 16, kernel_size=(5, 5), stride=(1, 1))\n",
      "  (fc1): Linear(in_features=400, out_features=120, bias=True)\n",
      "  (fc2): Linear(in_features=120, out_features=84, bias=True)\n",
      "  (fc3): Linear(in_features=84, out_features=10, bias=True)\n",
      ")\n",
      "torch.Size([1, 1, 32, 32])\n",
      "tensor([[-0.0944, -0.1235, -0.0796,  0.0541, -0.0236, -0.0871,  0.0770, -0.1027,\n",
      "         -0.0223,  0.0924]])\n",
      "torch.Size([1, 10])\n",
      "tensor([[-0.0944, -0.1235, -0.0796,  0.0541, -0.0236, -0.0871,  0.0770, -0.1027,\n",
      "         -0.0223,  0.0924]])\n"
     ]
    }
   ],
   "source": [
    "net = LeNet()\n",
    "print(net)\n",
    "\n",
    "x = torch.rand((1, 1, 32, 32))\n",
    "print(x.shape)\n",
    "\n",
    "# Don't collect gradients for testing\n",
    "with torch.no_grad():\n",
    "    net.eval()\n",
    "    # Implicit call to net.forward()\n",
    "    yhat = net(x)\n",
    "    print(yhat)\n",
    "    print(yhat.shape)\n",
    "    print(net.forward(x))\n",
    "    net.train()"
   ]
  },
  {
   "cell_type": "code",
   "execution_count": null,
   "id": "e36be1d4-d908-4cb6-b35c-8c1b4530faed",
   "metadata": {},
   "outputs": [],
   "source": []
  }
 ],
 "metadata": {
  "kernelspec": {
   "display_name": "Python 3 (ipykernel)",
   "language": "python",
   "name": "python3"
  },
  "language_info": {
   "codemirror_mode": {
    "name": "ipython",
    "version": 3
   },
   "file_extension": ".py",
   "mimetype": "text/x-python",
   "name": "python",
   "nbconvert_exporter": "python",
   "pygments_lexer": "ipython3",
   "version": "3.10.10"
  }
 },
 "nbformat": 4,
 "nbformat_minor": 5
}
