{
 "cells": [
  {
   "cell_type": "code",
   "execution_count": 1,
   "id": "7a64b464-1a19-4a6f-8938-2e9ea62a797e",
   "metadata": {},
   "outputs": [],
   "source": [
    "import numpy as np\n",
    "\n",
    "import torch\n",
    "import time\n",
    "import torch.nn.functional as F\n",
    "from torch import nn\n",
    "from torch.utils.data import DataLoader\n",
    "from torch.utils.data.dataset import random_split\n",
    "from torchtext.datasets import AG_NEWS\n",
    "from torchtext.data.utils import get_tokenizer\n",
    "from torchtext.data.functional import to_map_style_dataset\n",
    "from torchtext.vocab import build_vocab_from_iterator"
   ]
  },
  {
   "cell_type": "code",
   "execution_count": 2,
   "id": "9682810f-6ff2-468e-bc02-545be70c8200",
   "metadata": {},
   "outputs": [],
   "source": [
    "def yield_tokens(data_iter):\n",
    "    for _, text in data_iter:\n",
    "        yield tokenizer(text)\n",
    "\n",
    "\n",
    "def collate_batch(batch, device):\n",
    "    label_list, text_list, offsets = [], [], [0]\n",
    "    for (_label, _text) in batch:\n",
    "        label_list.append(label_pipeline(_label))\n",
    "        processed_text = torch.tensor(text_pipeline(_text), dtype=torch.int64)\n",
    "        text_list.append(processed_text)\n",
    "        offsets.append(processed_text.shape[0])\n",
    "    label_list = torch.tensor(label_list, dtype=torch.int64)\n",
    "    # Call cumsum() to get absolute offset (instead of relative offset)\n",
    "    offsets = torch.tensor(offsets[:-1]).cumsum(dim=0)\n",
    "    text_list = torch.cat(text_list)\n",
    "    return label_list.to(device), text_list.to(device), offsets.to(device)\n",
    "\n",
    "\n",
    "def train(dataloader, model, optimizer, criterion):\n",
    "    model.train()\n",
    "    total_acc, total_count = 0.0, 0.0\n",
    "    log_interval = 500\n",
    "    start_time = time.time()\n",
    "    \n",
    "    for idx, (label, text, offsets) in enumerate(dataloader):\n",
    "        optimizer.zero_grad()\n",
    "        pred_label = model(text, offsets)\n",
    "        loss = criterion(pred_label, label)\n",
    "        loss.backward()\n",
    "        torch.nn.utils.clip_grad_norm_(model.parameters(), 0.5)\n",
    "        optimizer.step()\n",
    "        total_acc += (pred_label.argmax(1) == label).sum().item()\n",
    "        total_count += label.size(0)\n",
    "        if idx % log_interval == 0 and idx > 0:\n",
    "            elapsed = time.time() - start_time\n",
    "            print(f\"| epoch {epoch} | {idx} / {len(dataloader)} batches | train acc {np.round(total_acc / total_count, 2)}\")\n",
    "        total_acc, total_count = 0.0, 0.0\n",
    "        start_time = time.time()\n",
    "        \n",
    "\n",
    "def evaluate(dataloader, model, criterion):\n",
    "    model.eval()\n",
    "    total_acc, total_count = 0.0, 0.0\n",
    "    \n",
    "    with torch.no_grad():\n",
    "        for idx, (label, text, offsets) in enumerate(dataloader):\n",
    "            pred_label = model(text, offsets)\n",
    "            loss = criterion(pred_label, label)\n",
    "            total_acc += (pred_label.argmax(1) == label).sum().item()\n",
    "            total_count += label.size(0)\n",
    "        return total_acc / total_count"
   ]
  },
  {
   "cell_type": "code",
   "execution_count": 3,
   "id": "bc07ae78-c011-4be5-bf1b-5125cb2d3593",
   "metadata": {},
   "outputs": [],
   "source": [
    "class TextClassifier(nn.Module):\n",
    "    \n",
    "    def __init__(self, vocab_size, embed_dim, hidden_dim, num_class):\n",
    "        super().__init__()\n",
    "        self.embedding = nn.EmbeddingBag(vocab_size, embed_dim, sparse=False)\n",
    "        self.fc1 = nn.Linear(embed_dim, hidden_dim)\n",
    "        self.fc2 = nn.Linear(hidden_dim, num_class)\n",
    "        self.init_weights()\n",
    "        \n",
    "    def init_weights(self):\n",
    "        # Use Leaky ReLU since behavior is similar to ELU \n",
    "        nn.init.kaiming_uniform_(self.fc1.weight, nonlinearity=\"leaky_relu\")\n",
    "        nn.init.zeros_(self.fc1.bias)\n",
    "        nn.init.xavier_uniform_(self.fc2.weight)\n",
    "        nn.init.zeros_(self.fc2.bias)\n",
    "        \n",
    "    def forward(self, text, offsets):\n",
    "        embedded = self.embedding.forward(text, offsets)\n",
    "        x = self.fc1(embedded)\n",
    "        x = F.elu(x)\n",
    "        x = self.fc2(x)\n",
    "        return x"
   ]
  },
  {
   "cell_type": "code",
   "execution_count": 4,
   "id": "adb3e9fa-466b-4141-9b1f-6e69f722ab59",
   "metadata": {},
   "outputs": [],
   "source": [
    "device = torch.device(\"cuda\" if torch.cuda.is_available() else \"cpu\")"
   ]
  },
  {
   "cell_type": "code",
   "execution_count": 5,
   "id": "76041d96-35ce-4e3b-b7f3-2a5c619c2768",
   "metadata": {},
   "outputs": [],
   "source": [
    "train_iter = AG_NEWS(split=\"train\")\n",
    "tokenizer = get_tokenizer(\"basic_english\")\n",
    "vocab = build_vocab_from_iterator(yield_tokens(train_iter), specials=[\"<unk>\"])\n",
    "vocab.set_default_index(vocab[\"<unk>\"])\n",
    "\n",
    "text_pipeline = lambda x: vocab(tokenizer(x))\n",
    "label_pipeline = lambda x: int(x) - 1"
   ]
  },
  {
   "cell_type": "code",
   "execution_count": 6,
   "id": "5b117d8e-c664-4a8c-a45b-e135b8763bf4",
   "metadata": {},
   "outputs": [],
   "source": [
    "num_class = len(set([label for label, text in train_iter]))\n",
    "vocab_size = len(vocab)\n",
    "emsize = 64\n",
    "hdsize = emsize\n",
    "model = TextClassifier(vocab_size, emsize, hdsize, num_class).to(device)"
   ]
  },
  {
   "cell_type": "code",
   "execution_count": 7,
   "id": "7f6a3eb4-00d2-46db-92fd-f554b097dd02",
   "metadata": {},
   "outputs": [
    {
     "data": {
      "text/plain": [
       "TextClassifier(\n",
       "  (embedding): EmbeddingBag(95811, 64, mode='mean')\n",
       "  (fc1): Linear(in_features=64, out_features=64, bias=True)\n",
       "  (fc2): Linear(in_features=64, out_features=4, bias=True)\n",
       ")"
      ]
     },
     "execution_count": 7,
     "metadata": {},
     "output_type": "execute_result"
    }
   ],
   "source": [
    "model"
   ]
  },
  {
   "cell_type": "code",
   "execution_count": 8,
   "id": "cb00fec5-f7e6-411c-8000-1434a76de50b",
   "metadata": {},
   "outputs": [
    {
     "name": "stdout",
     "output_type": "stream",
     "text": [
      ">>>\tWall St. Bears Claw Back Into the Black (Reuters) Reuters - Short-sellers, Wall Street's dwindling\\band of ultra-cynics, are seeing green again.\n",
      ">>>\t['wall', 'st', '.', 'bears', 'claw', 'back', 'into', 'the', 'black', '(', 'reuters', ')', 'reuters', '-', 'short-sellers', ',', 'wall', 'street', \"'\", 's', 'dwindling\\\\band', 'of', 'ultra-cynics', ',', 'are', 'seeing', 'green', 'again', '.']\n",
      "\n",
      ">>>\tCarlyle Looks Toward Commercial Aerospace (Reuters) Reuters - Private investment firm Carlyle Group,\\which has a reputation for making well-timed and occasionally\\controversial plays in the defense industry, has quietly placed\\its bets on another part of the market.\n",
      ">>>\t['carlyle', 'looks', 'toward', 'commercial', 'aerospace', '(', 'reuters', ')', 'reuters', '-', 'private', 'investment', 'firm', 'carlyle', 'group', ',', '\\\\which', 'has', 'a', 'reputation', 'for', 'making', 'well-timed', 'and', 'occasionally\\\\controversial', 'plays', 'in', 'the', 'defense', 'industry', ',', 'has', 'quietly', 'placed\\\\its', 'bets', 'on', 'another', 'part', 'of', 'the', 'market', '.']\n",
      "\n"
     ]
    }
   ],
   "source": [
    "for i, (_, txt) in enumerate(train_iter):\n",
    "    print(f\">>>\\t{txt}\")\n",
    "    print(f\">>>\\t{tokenizer(txt)}\")\n",
    "    print(\"\")\n",
    "    if i == 1:\n",
    "        break"
   ]
  },
  {
   "cell_type": "code",
   "execution_count": 9,
   "id": "93e6f616-8254-432a-9520-2fcec485038d",
   "metadata": {},
   "outputs": [
    {
     "name": "stdout",
     "output_type": "stream",
     "text": [
      "[1300, 5383, 16, 9, 951, 21, 45387]\n",
      "[1300, 5383, 16, 9, 951, 21, 45387]\n",
      "8\n"
     ]
    }
   ],
   "source": [
    "print(\n",
    "    vocab([\"my\", \"dog\", \"'\", \"s\", \"name\", \"is\", \"fido\"])\n",
    ")\n",
    "\n",
    "print(\n",
    "    text_pipeline(\"My dog's name is Fido\")\n",
    ")\n",
    "\n",
    "print(\n",
    "    label_pipeline(\"9\")\n",
    ")"
   ]
  },
  {
   "cell_type": "code",
   "execution_count": 10,
   "id": "efc5b05a-e2ed-47f6-b929-ef4d17792145",
   "metadata": {},
   "outputs": [],
   "source": [
    "epochs = 10\n",
    "lr = 5.0\n",
    "batch_size = 64"
   ]
  },
  {
   "cell_type": "code",
   "execution_count": 11,
   "id": "90297cba-aa65-4a04-986d-3ef2590da310",
   "metadata": {},
   "outputs": [],
   "source": [
    "criterion = torch.nn.CrossEntropyLoss()\n",
    "optimizer = torch.optim.SGD(model.parameters(), lr=lr)\n",
    "scheduler = torch.optim.lr_scheduler.StepLR(optimizer, step_size=1.0, gamma=0.1)"
   ]
  },
  {
   "cell_type": "code",
   "execution_count": 12,
   "id": "0102147a-c882-43e8-bd2d-7bcbfd2d937d",
   "metadata": {},
   "outputs": [],
   "source": [
    "total_accu = None\n",
    "train_iter, test_iter = AG_NEWS()\n",
    "train_dataset = to_map_style_dataset(train_iter)\n",
    "test_dataset = to_map_style_dataset(test_iter)\n",
    "num_train = int(len(train_dataset) * 0.95)\n",
    "split_train_, split_valid_ = random_split(train_dataset, [num_train, len(train_dataset) - num_train])\n",
    "\n",
    "train_dataloader = DataLoader(split_train_, batch_size=batch_size, shuffle=True, collate_fn=lambda x: collate_batch(x, device))\n",
    "valid_dataloader = DataLoader(split_valid_, batch_size=batch_size, shuffle=True, collate_fn=lambda x: collate_batch(x, device))\n",
    "test_dataloader = DataLoader(test_dataset, batch_size=batch_size, shuffle=True, collate_fn=lambda x: collate_batch(x, device))"
   ]
  },
  {
   "cell_type": "code",
   "execution_count": 13,
   "id": "7b21d3ef-6198-472b-bbaf-b1352b889e3c",
   "metadata": {},
   "outputs": [
    {
     "name": "stdout",
     "output_type": "stream",
     "text": [
      "| epoch 1 | 500 / 1782 batches | train acc 0.72\n",
      "| epoch 1 | 1000 / 1782 batches | train acc 0.73\n",
      "| epoch 1 | 1500 / 1782 batches | train acc 0.77\n",
      "-----------------------------------------------------------\n",
      "| end of epoch 1 | time: 9.99433445930481 | valid acc 0.77\n",
      "| epoch 2 | 500 / 1782 batches | train acc 0.8\n",
      "| epoch 2 | 1000 / 1782 batches | train acc 0.81\n",
      "| epoch 2 | 1500 / 1782 batches | train acc 0.92\n",
      "-----------------------------------------------------------\n",
      "| end of epoch 2 | time: 9.720261096954346 | valid acc 0.83\n",
      "| epoch 3 | 500 / 1782 batches | train acc 0.94\n",
      "| epoch 3 | 1000 / 1782 batches | train acc 0.86\n",
      "| epoch 3 | 1500 / 1782 batches | train acc 0.92\n",
      "-----------------------------------------------------------\n",
      "| end of epoch 3 | time: 9.638692140579224 | valid acc 0.86\n",
      "| epoch 4 | 500 / 1782 batches | train acc 0.81\n",
      "| epoch 4 | 1000 / 1782 batches | train acc 0.83\n",
      "| epoch 4 | 1500 / 1782 batches | train acc 0.92\n",
      "-----------------------------------------------------------\n",
      "| end of epoch 4 | time: 9.679272651672363 | valid acc 0.87\n",
      "| epoch 5 | 500 / 1782 batches | train acc 0.91\n",
      "| epoch 5 | 1000 / 1782 batches | train acc 0.95\n",
      "| epoch 5 | 1500 / 1782 batches | train acc 0.92\n",
      "-----------------------------------------------------------\n",
      "| end of epoch 5 | time: 9.599339008331299 | valid acc 0.81\n",
      "| epoch 6 | 500 / 1782 batches | train acc 0.91\n",
      "| epoch 6 | 1000 / 1782 batches | train acc 0.91\n",
      "| epoch 6 | 1500 / 1782 batches | train acc 0.89\n",
      "-----------------------------------------------------------\n",
      "| end of epoch 6 | time: 9.634700536727905 | valid acc 0.9\n",
      "| epoch 7 | 500 / 1782 batches | train acc 0.92\n",
      "| epoch 7 | 1000 / 1782 batches | train acc 0.92\n",
      "| epoch 7 | 1500 / 1782 batches | train acc 0.95\n",
      "-----------------------------------------------------------\n",
      "| end of epoch 7 | time: 9.698004961013794 | valid acc 0.9\n",
      "| epoch 8 | 500 / 1782 batches | train acc 0.91\n",
      "| epoch 8 | 1000 / 1782 batches | train acc 0.95\n",
      "| epoch 8 | 1500 / 1782 batches | train acc 0.94\n",
      "-----------------------------------------------------------\n",
      "| end of epoch 8 | time: 9.553621292114258 | valid acc 0.9\n",
      "| epoch 9 | 500 / 1782 batches | train acc 0.91\n",
      "| epoch 9 | 1000 / 1782 batches | train acc 0.95\n",
      "| epoch 9 | 1500 / 1782 batches | train acc 0.92\n",
      "-----------------------------------------------------------\n",
      "| end of epoch 9 | time: 9.553223848342896 | valid acc 0.9\n",
      "| epoch 10 | 500 / 1782 batches | train acc 0.94\n",
      "| epoch 10 | 1000 / 1782 batches | train acc 0.84\n",
      "| epoch 10 | 1500 / 1782 batches | train acc 0.97\n",
      "-----------------------------------------------------------\n",
      "| end of epoch 10 | time: 9.579043626785278 | valid acc 0.9\n"
     ]
    }
   ],
   "source": [
    "for epoch in range(1, epochs + 1):\n",
    "    epoch_start_time = time.time()\n",
    "    train(train_dataloader, model, optimizer, criterion)\n",
    "    accu_val = evaluate(valid_dataloader, model, criterion)\n",
    "    if total_accu is not None and total_accu > accu_val:\n",
    "        scheduler.step()\n",
    "    else:\n",
    "        total_accu = accu_val\n",
    "    print(\"-\" * 59)\n",
    "    print(f\"| end of epoch {epoch} | time: {time.time() - epoch_start_time} | valid acc {np.round(accu_val, 2)}\")"
   ]
  },
  {
   "cell_type": "code",
   "execution_count": null,
   "id": "a679a021-59d4-4761-b35b-e6c26dc89c3a",
   "metadata": {},
   "outputs": [],
   "source": []
  }
 ],
 "metadata": {
  "kernelspec": {
   "display_name": "Python 3 (ipykernel)",
   "language": "python",
   "name": "python3"
  },
  "language_info": {
   "codemirror_mode": {
    "name": "ipython",
    "version": 3
   },
   "file_extension": ".py",
   "mimetype": "text/x-python",
   "name": "python",
   "nbconvert_exporter": "python",
   "pygments_lexer": "ipython3",
   "version": "3.10.10"
  }
 },
 "nbformat": 4,
 "nbformat_minor": 5
}
