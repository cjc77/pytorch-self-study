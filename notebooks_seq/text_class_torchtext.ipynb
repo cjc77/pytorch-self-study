{
 "cells": [
  {
   "cell_type": "code",
   "execution_count": 1,
   "id": "7a64b464-1a19-4a6f-8938-2e9ea62a797e",
   "metadata": {},
   "outputs": [],
   "source": [
    "import numpy as np\n",
    "import time\n",
    "from torchmetrics import AUROC\n",
    "\n",
    "import torch\n",
    "import torch.nn.functional as F\n",
    "from torch import nn\n",
    "from torch.utils.data import DataLoader\n",
    "from torch.utils.data.dataset import random_split\n",
    "from torchtext.datasets import AG_NEWS\n",
    "from torchtext.data.utils import get_tokenizer\n",
    "from torchtext.data.functional import to_map_style_dataset\n",
    "from torchtext.vocab import build_vocab_from_iterator"
   ]
  },
  {
   "cell_type": "code",
   "execution_count": 2,
   "id": "9682810f-6ff2-468e-bc02-545be70c8200",
   "metadata": {},
   "outputs": [],
   "source": [
    "def yield_tokens(data_iter):\n",
    "    for _, text in data_iter:\n",
    "        yield tokenizer(text)\n",
    "\n",
    "\n",
    "def collate_batch(batch, device):\n",
    "    label_list, text_list, offsets = [], [], [0]\n",
    "    for (_label, _text) in batch:\n",
    "        label_list.append(label_pipeline(_label))\n",
    "        processed_text = torch.tensor(text_pipeline(_text), dtype=torch.int64)\n",
    "        text_list.append(processed_text)\n",
    "        offsets.append(processed_text.shape[0])\n",
    "    label_list = torch.tensor(label_list, dtype=torch.int64)\n",
    "    # Call cumsum() to get absolute offset (instead of relative offset)\n",
    "    offsets = torch.tensor(offsets[:-1]).cumsum(dim=0)\n",
    "    text_list = torch.cat(text_list)\n",
    "    return label_list.to(device), text_list.to(device), offsets.to(device)\n",
    "\n",
    "\n",
    "def train(dataloader, model, optimizers, criterion, auroc):\n",
    "    model.train()\n",
    "    total_cor, total_count = 0.0, 0.0\n",
    "    log_interval = 500\n",
    "    start_time = time.time()\n",
    "    decay_acc = 0.0\n",
    "    decay_auc = 0.0\n",
    "    \n",
    "    for idx, (labels, text, offsets) in enumerate(dataloader):\n",
    "        for optimizer in optimizers:\n",
    "            optimizer.zero_grad()\n",
    "        pred_labels = model(text, offsets)\n",
    "        loss = criterion(pred_labels, labels)\n",
    "        loss.backward()\n",
    "        torch.nn.utils.clip_grad_norm_(model.parameters(), 0.5)\n",
    "        for optimizer in optimizers:\n",
    "            optimizer.step()\n",
    "        total_cor += (pred_labels.argmax(1) == labels).sum().item()\n",
    "        total_count += labels.size(0)\n",
    "        acc = total_cor / total_count\n",
    "        auc = auroc(F.softmax(pred_labels, dim=1), labels).to(\"cpu\").item()\n",
    "        if idx % log_interval == 0 and idx > 0:\n",
    "            elapsed = time.time() - start_time\n",
    "            print((\n",
    "                f\"| epoch {epoch} | {idx} / {len(dataloader)} batches | train acc {np.round(acc, 3)} \"\n",
    "                f\"| train auc {np.round(auc, 3)} |\"\n",
    "            ))\n",
    "        # Is this the first batch?\n",
    "        if decay_acc > 0.0:\n",
    "            decay_acc = 0.9 * decay_acc + 0.1 * acc\n",
    "            decay_auc = 0.9 * decay_auc + 0.1 * auc\n",
    "        else:\n",
    "            decay_acc = acc\n",
    "            decay_auc = auc\n",
    "        acc = 0.0\n",
    "        total_cor, total_count = 0.0, 0.0\n",
    "        start_time = time.time()\n",
    "    return decay_acc, decay_auc\n",
    "        \n",
    "\n",
    "def evaluate(dataloader, model, criterion, auroc):\n",
    "    model.eval()\n",
    "    total_acc, total_count = 0.0, 0.0\n",
    "    aucs = []\n",
    "    losses = []\n",
    "    \n",
    "    with torch.no_grad():\n",
    "        for idx, (labels, text, offsets) in enumerate(dataloader):\n",
    "            pred_labels = model(text, offsets)\n",
    "            loss = criterion(pred_labels, labels)\n",
    "            total_acc += (pred_labels.argmax(1) == labels).sum().item()\n",
    "            total_count += labels.size(0)\n",
    "            auc = auroc(F.softmax(pred_labels, dim=1), labels).to(\"cpu\").item()\n",
    "            aucs.append(auc)\n",
    "            losses.append(loss.to(\"cpu\").item())\n",
    "            \n",
    "        return total_acc / total_count, np.mean(aucs), loss"
   ]
  },
  {
   "cell_type": "code",
   "execution_count": 3,
   "id": "bc07ae78-c011-4be5-bf1b-5125cb2d3593",
   "metadata": {},
   "outputs": [],
   "source": [
    "class TextClassifier(nn.Module):\n",
    "    \n",
    "    def __init__(self, vocab_size, embed_dim, hidden_dim, num_class):\n",
    "        super().__init__()\n",
    "        self.embedding = nn.EmbeddingBag(vocab_size, embed_dim, sparse=False)\n",
    "        self.fc1 = nn.Linear(embed_dim, hidden_dim)\n",
    "        self.fc2 = nn.Linear(hidden_dim, num_class)\n",
    "        self.init_weights()\n",
    "        \n",
    "    def init_weights(self):\n",
    "        # Use Leaky ReLU since behavior is similar to ELU \n",
    "        nn.init.kaiming_uniform_(self.fc1.weight, nonlinearity=\"leaky_relu\")\n",
    "        nn.init.zeros_(self.fc1.bias)\n",
    "        nn.init.xavier_uniform_(self.fc2.weight)\n",
    "        nn.init.zeros_(self.fc2.bias)\n",
    "        \n",
    "    def forward(self, text, offsets):\n",
    "        embedded = self.embedding.forward(text, offsets)\n",
    "        x = self.fc1(embedded)\n",
    "        x = F.elu(x)\n",
    "        x = self.fc2(x)\n",
    "        # x = F.softmax(x)\n",
    "        return x"
   ]
  },
  {
   "cell_type": "code",
   "execution_count": 4,
   "id": "adb3e9fa-466b-4141-9b1f-6e69f722ab59",
   "metadata": {},
   "outputs": [],
   "source": [
    "device = torch.device(\"cuda\" if torch.cuda.is_available() else \"cpu\")\n",
    "chkpt_path = \"../checkpoints/news_class.pth\""
   ]
  },
  {
   "cell_type": "code",
   "execution_count": 5,
   "id": "76041d96-35ce-4e3b-b7f3-2a5c619c2768",
   "metadata": {},
   "outputs": [],
   "source": [
    "train_iter = AG_NEWS(split=\"train\")\n",
    "tokenizer = get_tokenizer(\"basic_english\")\n",
    "vocab = build_vocab_from_iterator(yield_tokens(train_iter), specials=[\"<unk>\"])\n",
    "vocab.set_default_index(vocab[\"<unk>\"])\n",
    "\n",
    "text_pipeline = lambda x: vocab(tokenizer(x))\n",
    "label_pipeline = lambda x: int(x) - 1"
   ]
  },
  {
   "cell_type": "code",
   "execution_count": 6,
   "id": "5b117d8e-c664-4a8c-a45b-e135b8763bf4",
   "metadata": {},
   "outputs": [],
   "source": [
    "num_class = len(set([label for label, text in train_iter]))\n",
    "vocab_size = len(vocab)\n",
    "emsize = 64\n",
    "hdsize = emsize\n",
    "model = TextClassifier(vocab_size, emsize, hdsize, num_class).to(device)"
   ]
  },
  {
   "cell_type": "code",
   "execution_count": 7,
   "id": "7f6a3eb4-00d2-46db-92fd-f554b097dd02",
   "metadata": {},
   "outputs": [
    {
     "data": {
      "text/plain": [
       "TextClassifier(\n",
       "  (embedding): EmbeddingBag(95811, 64, mode='mean')\n",
       "  (fc1): Linear(in_features=64, out_features=64, bias=True)\n",
       "  (fc2): Linear(in_features=64, out_features=4, bias=True)\n",
       ")"
      ]
     },
     "execution_count": 7,
     "metadata": {},
     "output_type": "execute_result"
    }
   ],
   "source": [
    "model"
   ]
  },
  {
   "cell_type": "code",
   "execution_count": 8,
   "id": "cb00fec5-f7e6-411c-8000-1434a76de50b",
   "metadata": {},
   "outputs": [
    {
     "name": "stdout",
     "output_type": "stream",
     "text": [
      ">>>\tWall St. Bears Claw Back Into the Black (Reuters) Reuters - Short-sellers, Wall Street's dwindling\\band of ultra-cynics, are seeing green again.\n",
      ">>>\t['wall', 'st', '.', 'bears', 'claw', 'back', 'into', 'the', 'black', '(', 'reuters', ')', 'reuters', '-', 'short-sellers', ',', 'wall', 'street', \"'\", 's', 'dwindling\\\\band', 'of', 'ultra-cynics', ',', 'are', 'seeing', 'green', 'again', '.']\n",
      "\n"
     ]
    }
   ],
   "source": [
    "for i, (_, txt) in enumerate(train_iter):\n",
    "    print(f\">>>\\t{txt}\")\n",
    "    print(f\">>>\\t{tokenizer(txt)}\")\n",
    "    print(\"\")\n",
    "    if i == 0:\n",
    "        break"
   ]
  },
  {
   "cell_type": "code",
   "execution_count": 9,
   "id": "93e6f616-8254-432a-9520-2fcec485038d",
   "metadata": {},
   "outputs": [
    {
     "name": "stdout",
     "output_type": "stream",
     "text": [
      "[1300, 5383, 16, 9, 951, 21, 45387]\n",
      "[1300, 5383, 16, 9, 951, 21, 45387]\n",
      "8\n"
     ]
    }
   ],
   "source": [
    "print(\n",
    "    vocab([\"my\", \"dog\", \"'\", \"s\", \"name\", \"is\", \"fido\"])\n",
    ")\n",
    "\n",
    "print(\n",
    "    text_pipeline(\"My dog's name is Fido\")\n",
    ")\n",
    "\n",
    "print(\n",
    "    label_pipeline(\"9\")\n",
    ")"
   ]
  },
  {
   "cell_type": "code",
   "execution_count": 10,
   "id": "efc5b05a-e2ed-47f6-b929-ef4d17792145",
   "metadata": {},
   "outputs": [],
   "source": [
    "epochs = 15\n",
    "lr = 0.1\n",
    "batch_size = 64"
   ]
  },
  {
   "cell_type": "code",
   "execution_count": 11,
   "id": "c36a71ae-f960-441a-86ad-eb7137c4e17e",
   "metadata": {},
   "outputs": [],
   "source": [
    "auroc = AUROC(task=\"multiclass\", num_classes=num_class)"
   ]
  },
  {
   "cell_type": "code",
   "execution_count": 12,
   "id": "90297cba-aa65-4a04-986d-3ef2590da310",
   "metadata": {},
   "outputs": [],
   "source": [
    "criterion = torch.nn.CrossEntropyLoss()\n",
    "# optimizer = torch.optim.SGD(model.parameters(), lr=lr, momentum=0.9)\n",
    "optimizer1 = torch.optim.AdamW(\n",
    "    nn.ParameterList(\n",
    "        list(model.fc1.parameters()) +\\\n",
    "        list(model.fc2.parameters())\n",
    "    ),\n",
    "    lr=lr,\n",
    "    amsgrad=True\n",
    ")\n",
    "optimizer2 = torch.optim.Adamax(model.embedding.parameters(), lr=lr)\n",
    "scheduler = None\n",
    "# scheduler = torch.optim.lr_scheduler.StepLR(optimizer, step_size=1.0, gamma=0.1)"
   ]
  },
  {
   "cell_type": "code",
   "execution_count": 13,
   "id": "0102147a-c882-43e8-bd2d-7bcbfd2d937d",
   "metadata": {},
   "outputs": [],
   "source": [
    "train_iter, test_iter = AG_NEWS()\n",
    "train_dataset = to_map_style_dataset(train_iter)\n",
    "test_dataset = to_map_style_dataset(test_iter)\n",
    "num_train = int(len(train_dataset) * 0.95)\n",
    "split_train_, split_valid_ = random_split(train_dataset, [num_train, len(train_dataset) - num_train])\n",
    "\n",
    "train_dataloader = DataLoader(split_train_, batch_size=batch_size, shuffle=True, collate_fn=lambda x: collate_batch(x, device))\n",
    "valid_dataloader = DataLoader(split_valid_, batch_size=batch_size, shuffle=True, collate_fn=lambda x: collate_batch(x, device))\n",
    "test_dataloader = DataLoader(test_dataset, batch_size=batch_size, shuffle=True, collate_fn=lambda x: collate_batch(x, device))"
   ]
  },
  {
   "cell_type": "code",
   "execution_count": 14,
   "id": "7b21d3ef-6198-472b-bbaf-b1352b889e3c",
   "metadata": {
    "tags": []
   },
   "outputs": [
    {
     "name": "stdout",
     "output_type": "stream",
     "text": [
      "| epoch 1 | 500 / 1782 batches | train acc 0.781 | train auc 0.961 |\n",
      "| epoch 1 | 1000 / 1782 batches | train acc 0.766 | train auc 0.958 |\n",
      "| epoch 1 | 1500 / 1782 batches | train acc 0.844 | train auc 0.98 |\n",
      "Best performance so far. Saving model checkpoint.\n",
      "-----------------------------------------------------------\n",
      "| end of epoch 1 | time: 26.103 | valid acc 0.871 | valid avg. auc 0.977 | decay train acc 0.887 | decay train auc 0.982\n",
      "-----------------------------------------------------------\n",
      "| epoch 2 | 500 / 1782 batches | train acc 0.906 | train auc 0.987 |\n",
      "| epoch 2 | 1000 / 1782 batches | train acc 0.859 | train auc 0.983 |\n",
      "| epoch 2 | 1500 / 1782 batches | train acc 0.906 | train auc 0.983 |\n",
      "-----------------------------------------------------------\n",
      "| end of epoch 2 | time: 26.248 | valid acc 0.865 | valid avg. auc 0.979 | decay train acc 0.885 | decay train auc 0.986\n",
      "-----------------------------------------------------------\n",
      "| epoch 3 | 500 / 1782 batches | train acc 0.891 | train auc 0.99 |\n",
      "| epoch 3 | 1000 / 1782 batches | train acc 0.859 | train auc 0.987 |\n",
      "| epoch 3 | 1500 / 1782 batches | train acc 0.891 | train auc 0.985 |\n",
      "Best performance so far. Saving model checkpoint.\n",
      "-----------------------------------------------------------\n",
      "| end of epoch 3 | time: 26.246 | valid acc 0.899 | valid avg. auc 0.98 | decay train acc 0.922 | decay train auc 0.989\n",
      "-----------------------------------------------------------\n",
      "| epoch 4 | 500 / 1782 batches | train acc 0.953 | train auc 0.999 |\n",
      "| epoch 4 | 1000 / 1782 batches | train acc 0.969 | train auc 1.0 |\n",
      "| epoch 4 | 1500 / 1782 batches | train acc 0.969 | train auc 1.0 |\n",
      "-----------------------------------------------------------\n",
      "| end of epoch 4 | time: 27.279 | valid acc 0.854 | valid avg. auc 0.981 | decay train acc 0.906 | decay train auc 0.989\n",
      "-----------------------------------------------------------\n",
      "| epoch 5 | 500 / 1782 batches | train acc 0.969 | train auc 0.999 |\n",
      "| epoch 5 | 1000 / 1782 batches | train acc 0.953 | train auc 0.997 |\n",
      "| epoch 5 | 1500 / 1782 batches | train acc 1.0 | train auc 1.0 |\n",
      "-----------------------------------------------------------\n",
      "| end of epoch 5 | time: 27.537 | valid acc 0.898 | valid avg. auc 0.983 | decay train acc 0.936 | decay train auc 0.995\n",
      "-----------------------------------------------------------\n",
      "| epoch 6 | 500 / 1782 batches | train acc 0.984 | train auc 1.0 |\n",
      "| epoch 6 | 1000 / 1782 batches | train acc 0.969 | train auc 0.995 |\n",
      "| epoch 6 | 1500 / 1782 batches | train acc 0.891 | train auc 0.982 |\n",
      "Best performance so far. Saving model checkpoint.\n",
      "-----------------------------------------------------------\n",
      "| end of epoch 6 | time: 28.052 | valid acc 0.901 | valid avg. auc 0.981 | decay train acc 0.952 | decay train auc 0.996\n",
      "-----------------------------------------------------------\n",
      "| epoch 7 | 500 / 1782 batches | train acc 1.0 | train auc 1.0 |\n",
      "| epoch 7 | 1000 / 1782 batches | train acc 0.953 | train auc 0.998 |\n",
      "| epoch 7 | 1500 / 1782 batches | train acc 1.0 | train auc 1.0 |\n",
      "-----------------------------------------------------------\n",
      "| end of epoch 7 | time: 27.369 | valid acc 0.83 | valid avg. auc 0.979 | decay train acc 0.921 | decay train auc 0.992\n",
      "-----------------------------------------------------------\n",
      "| epoch 8 | 500 / 1782 batches | train acc 0.922 | train auc 0.996 |\n",
      "| epoch 8 | 1000 / 1782 batches | train acc 0.938 | train auc 0.995 |\n",
      "| epoch 8 | 1500 / 1782 batches | train acc 1.0 | train auc 1.0 |\n",
      "-----------------------------------------------------------\n",
      "| end of epoch 8 | time: 27.884 | valid acc 0.899 | valid avg. auc 0.981 | decay train acc 0.955 | decay train auc 0.996\n",
      "-----------------------------------------------------------\n",
      "| epoch 9 | 500 / 1782 batches | train acc 0.938 | train auc 0.997 |\n",
      "| epoch 9 | 1000 / 1782 batches | train acc 0.922 | train auc 0.995 |\n",
      "| epoch 9 | 1500 / 1782 batches | train acc 0.938 | train auc 0.998 |\n",
      "-----------------------------------------------------------\n",
      "| end of epoch 9 | time: 27.516 | valid acc 0.893 | valid avg. auc 0.982 | decay train acc 0.966 | decay train auc 0.997\n",
      "-----------------------------------------------------------\n",
      "| epoch 10 | 500 / 1782 batches | train acc 0.984 | train auc 1.0 |\n",
      "| epoch 10 | 1000 / 1782 batches | train acc 0.984 | train auc 1.0 |\n",
      "| epoch 10 | 1500 / 1782 batches | train acc 0.953 | train auc 0.999 |\n",
      "Best performance so far. Saving model checkpoint.\n",
      "-----------------------------------------------------------\n",
      "| end of epoch 10 | time: 27.837 | valid acc 0.905 | valid avg. auc 0.982 | decay train acc 0.957 | decay train auc 0.998\n",
      "-----------------------------------------------------------\n",
      "| epoch 11 | 500 / 1782 batches | train acc 0.938 | train auc 0.999 |\n",
      "| epoch 11 | 1000 / 1782 batches | train acc 0.984 | train auc 0.999 |\n",
      "| epoch 11 | 1500 / 1782 batches | train acc 0.984 | train auc 1.0 |\n",
      "-----------------------------------------------------------\n",
      "| end of epoch 11 | time: 29.163 | valid acc 0.899 | valid avg. auc 0.98 | decay train acc 0.961 | decay train auc 0.998\n",
      "-----------------------------------------------------------\n",
      "| epoch 12 | 500 / 1782 batches | train acc 0.969 | train auc 1.0 |\n",
      "| epoch 12 | 1000 / 1782 batches | train acc 0.922 | train auc 0.999 |\n",
      "| epoch 12 | 1500 / 1782 batches | train acc 0.969 | train auc 0.998 |\n",
      "-----------------------------------------------------------\n",
      "| end of epoch 12 | time: 28.113 | valid acc 0.896 | valid avg. auc 0.982 | decay train acc 0.967 | decay train auc 0.999\n",
      "-----------------------------------------------------------\n",
      "| epoch 13 | 500 / 1782 batches | train acc 1.0 | train auc 1.0 |\n",
      "| epoch 13 | 1000 / 1782 batches | train acc 0.922 | train auc 0.998 |\n",
      "| epoch 13 | 1500 / 1782 batches | train acc 0.938 | train auc 0.999 |\n",
      "-----------------------------------------------------------\n",
      "| end of epoch 13 | time: 27.487 | valid acc 0.902 | valid avg. auc 0.982 | decay train acc 0.97 | decay train auc 0.999\n",
      "-----------------------------------------------------------\n",
      "| epoch 14 | 500 / 1782 batches | train acc 0.984 | train auc 1.0 |\n",
      "| epoch 14 | 1000 / 1782 batches | train acc 1.0 | train auc 1.0 |\n",
      "| epoch 14 | 1500 / 1782 batches | train acc 0.953 | train auc 0.996 |\n",
      "-----------------------------------------------------------\n",
      "| end of epoch 14 | time: 27.76 | valid acc 0.897 | valid avg. auc 0.982 | decay train acc 0.963 | decay train auc 0.999\n",
      "-----------------------------------------------------------\n",
      "| epoch 15 | 500 / 1782 batches | train acc 0.953 | train auc 0.999 |\n",
      "| epoch 15 | 1000 / 1782 batches | train acc 1.0 | train auc 1.0 |\n",
      "| epoch 15 | 1500 / 1782 batches | train acc 0.953 | train auc 1.0 |\n",
      "-----------------------------------------------------------\n",
      "| end of epoch 15 | time: 27.573 | valid acc 0.888 | valid avg. auc 0.98 | decay train acc 0.972 | decay train auc 0.999\n",
      "-----------------------------------------------------------\n"
     ]
    }
   ],
   "source": [
    "best_acc = 0.0\n",
    "for epoch in range(1, epochs + 1):\n",
    "    epoch_start_time = time.time()\n",
    "    acc_train, auc_train = train(train_dataloader, model, (optimizer1, optimizer2), criterion, auroc)\n",
    "    acc_val, auc_val, loss_val = evaluate(valid_dataloader, model, criterion, auroc)\n",
    "    if acc_val > best_acc:\n",
    "        print(\"Best performance so far. Saving model checkpoint.\")\n",
    "        best_acc = acc_val\n",
    "        checkpoint = {\n",
    "            \"model_state_dict\": model.state_dict(),\n",
    "            \"optimizer1_state_dict\": optimizer1.state_dict(),\n",
    "            \"optimizer2_state_dict\": optimizer2.state_dict(),\n",
    "            \"criterion\": criterion\n",
    "        }\n",
    "        torch.save(checkpoint, chkpt_path)\n",
    "        \n",
    "    print(\"-\" * 59)\n",
    "    print((\n",
    "        f\"| end of epoch {epoch} | \"\n",
    "        f\"time: {np.round(time.time() - epoch_start_time, 3)} | \"\n",
    "        f\"valid acc {np.round(acc_val, 3)} | \"\n",
    "        f\"valid avg. auc {np.round(auc_val, 3)} | \"\n",
    "        f\"decay train acc {np.round(acc_train, 3)} | \"\n",
    "        f\"decay train auc {np.round(auc_train, 3)}\"\n",
    "    ))\n",
    "    print(\"-\" * 59)"
   ]
  },
  {
   "cell_type": "code",
   "execution_count": 15,
   "id": "e5343109-d713-4243-8eb8-7d4157ea265c",
   "metadata": {},
   "outputs": [],
   "source": [
    "checkpoint = torch.load(chkpt_path)\n",
    "model.load_state_dict(checkpoint[\"model_state_dict\"])\n",
    "optimizer1.load_state_dict(checkpoint[\"optimizer1_state_dict\"])\n",
    "optimizer2.load_state_dict(checkpoint[\"optimizer2_state_dict\"])\n",
    "criterion = checkpoint[\"criterion\"]"
   ]
  },
  {
   "cell_type": "code",
   "execution_count": 16,
   "id": "251b76b5-682c-4806-99e8-1a94fbb61dbd",
   "metadata": {},
   "outputs": [
    {
     "name": "stdout",
     "output_type": "stream",
     "text": [
      "Test data performance\n",
      "time: 28.778 | test acc 0.9 | test avg. auc 0.98 | \n"
     ]
    }
   ],
   "source": [
    "print(\"Test data performance\")\n",
    "acc_test, auc_test, _ = evaluate(test_dataloader, model, criterion, auroc)\n",
    "print((\n",
    "        f\"time: {np.round(time.time() - epoch_start_time, 3)} | \"\n",
    "        f\"test acc {np.round(acc_test, 3)} | \"\n",
    "        f\"test avg. auc {np.round(auc_test, 3)} | \"\n",
    "    ))"
   ]
  },
  {
   "cell_type": "code",
   "execution_count": null,
   "id": "5d6b5802-7ea6-44b8-bad8-94287ff74f7a",
   "metadata": {},
   "outputs": [],
   "source": []
  }
 ],
 "metadata": {
  "kernelspec": {
   "display_name": "Python 3 (ipykernel)",
   "language": "python",
   "name": "python3"
  },
  "language_info": {
   "codemirror_mode": {
    "name": "ipython",
    "version": 3
   },
   "file_extension": ".py",
   "mimetype": "text/x-python",
   "name": "python",
   "nbconvert_exporter": "python",
   "pygments_lexer": "ipython3",
   "version": "3.10.10"
  }
 },
 "nbformat": 4,
 "nbformat_minor": 5
}
