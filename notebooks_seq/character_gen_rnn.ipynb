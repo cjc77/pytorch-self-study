{
 "cells": [
  {
   "cell_type": "code",
   "execution_count": 14,
   "id": "9dafbc06-b177-43b6-b62d-b3293b4a7e3a",
   "metadata": {},
   "outputs": [],
   "source": [
    "import numpy as np\n",
    "import pandas as pd\n",
    "import glob\n",
    "import unicodedata\n",
    "import string\n",
    "import os\n",
    "import time\n",
    "from io import open\n",
    "import matplotlib.pyplot as plt\n",
    "import seaborn as sns\n",
    "\n",
    "import torch\n",
    "import torch.nn as nn"
   ]
  },
  {
   "cell_type": "code",
   "execution_count": 2,
   "id": "29da3248-c1cc-4955-bf31-89f433ef885f",
   "metadata": {},
   "outputs": [],
   "source": [
    "def unicode_to_ascii(s):\n",
    "    \"\"\"Unicode string to plain ASCII.\n",
    "    \n",
    "    \"\"\"\n",
    "    decoded = \"\".join(\n",
    "        c for c in unicodedata.normalize(\"NFD\", s)\n",
    "        if unicodedata.category(c) != \"Mn\"\n",
    "        and c in all_letters\n",
    "    )\n",
    "    return decoded\n",
    "\n",
    "\n",
    "def read_lines(filename):\n",
    "    \"\"\"Read a file and split into lines.\n",
    "    \n",
    "    \"\"\"\n",
    "    lines = open(filename, encoding=\"utf-8\").read().strip().split('\\n')\n",
    "    return [unicode_to_ascii(line) for line in lines]\n",
    "\n",
    "\n",
    "def letter_to_index(letter):\n",
    "    \"\"\"Find letter index from all_letters.\n",
    "    \n",
    "    \"\"\"\n",
    "    return all_letters.find(letter)\n",
    "\n",
    "\n",
    "def category_to_tensor(category):\n",
    "    \"\"\"Get 1-hot encoding for a category \n",
    "    \n",
    "    \"\"\"\n",
    "    cat_i = all_categories.index(category)\n",
    "    tensor = torch.zeros(1, n_categories)\n",
    "    tensor[0][cat_i] = 1\n",
    "    return tensor\n",
    "\n",
    "\n",
    "def input_to_tensor(line):\n",
    "    \"\"\"Get 1-hot (line length, 1, n_letters) of first to last letters (not including EOS) for input.\n",
    "    \n",
    "    \"\"\"\n",
    "    tensor = torch.zeros(len(line), 1, n_letters)\n",
    "    for i, letter in enumerate(line):\n",
    "        tensor[i][0][letter_to_index(letter)] = 1\n",
    "    return tensor\n",
    "\n",
    "\n",
    "def target_to_tensor(line):\n",
    "    \"\"\"Long tensor of [line[1], line[2], ..., EOS].\n",
    "    \n",
    "    Skip line[0] since don't predict.\n",
    "    \n",
    "    \"\"\"\n",
    "    letter_indexes = [all_letters.find(line[i]) for i in range(1, len(line))]\n",
    "    # Add EOS symbol\n",
    "    letter_indexes.append(n_letters - 1)\n",
    "    # (n,) -> (n,1)\n",
    "    return torch.tensor(letter_indexes, dtype=torch.long)[:, None]\n",
    "\n",
    "\n",
    "def random_pair(train):\n",
    "    \"\"\"Select a random training example and return category/line contents.\n",
    "    \n",
    "    \"\"\"\n",
    "    category = np.random.choice(all_categories)\n",
    "    # 0 = train, 1 = val\n",
    "    if train:\n",
    "        line_ps = (1 - category_lines_tv_split[category]) / (1 - category_lines_tv_split[category]).sum()\n",
    "    else:\n",
    "        line_ps = category_lines_tv_split[category] / category_lines_tv_split[category].sum()\n",
    "    \n",
    "    line = np.random.choice(category_lines[category], p=line_ps)\n",
    "    return category, line\n",
    "\n",
    "\n",
    "def random_ex(train=True):\n",
    "    \"\"\"Make category, input, and target tensors from a random category, line pair\n",
    "    \n",
    "    \"\"\"\n",
    "    category, line = random_pair(train)\n",
    "    category_tensor = category_to_tensor(category)\n",
    "    input_line_tensor = input_to_tensor(line)\n",
    "    target_line_tensor = target_to_tensor(line)\n",
    "    return category_tensor, input_line_tensor, target_line_tensor"
   ]
  },
  {
   "cell_type": "code",
   "execution_count": 3,
   "id": "7bc33aee-11bb-4c9e-b0ba-53213b83780c",
   "metadata": {},
   "outputs": [],
   "source": [
    "name_files = glob.glob(\"../data/rnn_char_class_data/names/*.txt\")\n",
    "# all_letters = string.ascii_letters + \" .,;'-\"\n",
    "# Changed EOS to '}' since names might be hyphenated\n",
    "all_letters = string.ascii_letters + \" .,;'}\"\n",
    "# +1 is for EOS marker\n",
    "n_letters = len(all_letters) + 1"
   ]
  },
  {
   "cell_type": "code",
   "execution_count": 4,
   "id": "9160b897-84a0-4cac-b25e-04aa837e6e21",
   "metadata": {},
   "outputs": [
    {
     "name": "stdout",
     "output_type": "stream",
     "text": [
      "abcdefghijklmnopqrstuvwxyzABCDEFGHIJKLMNOPQRSTUVWXYZ .,;'}\n"
     ]
    }
   ],
   "source": [
    "print(all_letters)"
   ]
  },
  {
   "cell_type": "code",
   "execution_count": 5,
   "id": "4a2acca8-bd89-42b5-9eef-e681525c81d2",
   "metadata": {},
   "outputs": [],
   "source": [
    "# category_lines dict. -- a list of lines per category\n",
    "category_lines = {}\n",
    "all_categories = []\n",
    "\n",
    "for filename in name_files:\n",
    "    category = os.path.splitext(os.path.basename(filename))[0]\n",
    "    all_categories.append(category)\n",
    "    lines = read_lines(filename)\n",
    "    category_lines[category] = lines\n",
    "\n",
    "n_categories = len(all_categories)\n",
    "category_lines_tv_split = {k: np.random.choice((0, 1), p=(0.8, 0.2), size=len(v)) for k, v in category_lines.items()}"
   ]
  },
  {
   "cell_type": "code",
   "execution_count": 6,
   "id": "881aa316-2d11-45cd-aa78-5752c757a458",
   "metadata": {},
   "outputs": [
    {
     "name": "stdout",
     "output_type": "stream",
     "text": [
      "# categories: 18 ['Korean', 'Vietnamese', 'Czech', 'French', 'Greek', 'Dutch', 'Irish', 'Japanese', 'Portuguese', 'Polish', 'Spanish', 'Scottish', 'German', 'Russian', 'English', 'Arabic', 'Chinese', 'Italian']\n",
      "O'Neal\n"
     ]
    }
   ],
   "source": [
    "print('# categories:', n_categories, all_categories)\n",
    "print(unicode_to_ascii(\"O'Néàl\"))"
   ]
  },
  {
   "cell_type": "code",
   "execution_count": 7,
   "id": "7be4eb39-cdcb-4641-b4f8-e88622def31f",
   "metadata": {},
   "outputs": [],
   "source": [
    "class RNN(nn.Module):\n",
    "    def __init__(self, category_size, input_size, hidden_size, output_size):\n",
    "        super().__init__()\n",
    "        self.hidden_size = hidden_size\n",
    "        \n",
    "        self.h1_fc = nn.Linear(category_size + input_size + hidden_size, hidden_size)\n",
    "        self.y1_fc = nn.Linear(category_size + input_size + hidden_size, output_size)\n",
    "        self.y2_fc = nn.Linear(hidden_size + output_size, output_size)\n",
    "        \n",
    "        self.tanh = nn.Tanh()\n",
    "        self.log_softmax = nn.LogSoftmax(dim=1)\n",
    "                \n",
    "    def forward(self, c, x, h0):\n",
    "        cxh0 = torch.cat((c, x, h0), dim=1)\n",
    "        \n",
    "        h1 = self.h1_fc(cxh0)\n",
    "        h1 = self.tanh(h1)\n",
    "        \n",
    "        y = self.y1_fc(cxh0)\n",
    "        y = self.tanh(y)\n",
    "        \n",
    "        yh1 = torch.cat((y, h1), dim=1)\n",
    "        y = self.y2_fc(yh1)\n",
    "        y = self.log_softmax(y)\n",
    "        \n",
    "        return y, h1\n",
    "    \n",
    "    def zero_hidden(self):\n",
    "        return torch.zeros(1, self.hidden_size)"
   ]
  },
  {
   "cell_type": "code",
   "execution_count": 8,
   "id": "4a681d61-e7b1-433d-a839-8542f614faf5",
   "metadata": {},
   "outputs": [],
   "source": [
    "def time_since(since):\n",
    "    elapsed = time.time() - since\n",
    "    m = elapsed // 60\n",
    "    s = elapsed % 60\n",
    "    return f\"{m}m {s}s\"\n",
    "\n",
    "\n",
    "def train_line(model, crit, opt, category_tensor, input_line_tensor, target_line_tensor):    \n",
    "    \"\"\"Execute forward passes for one line.\n",
    "    \n",
    "    \"\"\"\n",
    "    opt.zero_grad()\n",
    "    # Empty initial hidden state\n",
    "    h = model.zero_hidden().to(device)\n",
    "    loss = 0.0\n",
    "    for i in range(input_line_tensor.size(0)):\n",
    "        yhat, h = model(category_tensor, input_line_tensor[i], h)\n",
    "\n",
    "        loss += crit(yhat, target_line_tensor[i])\n",
    "\n",
    "    loss.backward()\n",
    "    opt.step()\n",
    "    \n",
    "    return yhat, loss.item() / input_line_tensor.size(0)\n",
    "\n",
    "\n",
    "def train():\n",
    "    running_loss = 0.0\n",
    "    losses = np.zeros(n_epochs // plot_every)\n",
    "    \n",
    "    model.train()\n",
    "    \n",
    "    start = time.time()\n",
    "    for i in range(1, n_epochs + 1):\n",
    "        for b in range(batch_size):\n",
    "            category_tensor, input_line_tensor, target_line_tensor = random_ex(train=True)\n",
    "            \n",
    "            category_tensor, input_line_tensor, target_line_tensor = (\n",
    "                category_tensor.to(device),\n",
    "                input_line_tensor.to(device),\n",
    "                target_line_tensor.to(device)\n",
    "            )\n",
    "            \n",
    "            yhat, loss = train_line(model, criterion, optimizer, category_tensor, input_line_tensor, target_line_tensor)\n",
    "            running_loss += loss\n",
    "        \n",
    "        if i % print_every == 0:\n",
    "            print(f\"{i} {np.round(i / n_epochs * 100, 0)}% ({time_since(start)}): {loss}\")\n",
    "        \n",
    "        if i % plot_every == 0:\n",
    "            # losses.append(running_loss / plot_every)\n",
    "            losses[i // plot_every - 1] = running_loss / plot_every\n",
    "            running_loss = 0.0\n",
    "    \n",
    "    return losses"
   ]
  },
  {
   "cell_type": "code",
   "execution_count": 9,
   "id": "7207cd15-874e-430c-9700-285cd748926f",
   "metadata": {},
   "outputs": [],
   "source": [
    "n_hidden = 128\n",
    "model = RNN(n_categories, n_letters, n_hidden, n_letters)"
   ]
  },
  {
   "cell_type": "code",
   "execution_count": 10,
   "id": "7be6052e-23f0-4fe0-bb7c-855e3314d0e0",
   "metadata": {},
   "outputs": [],
   "source": [
    "lr = 0.001\n",
    "criterion = nn.NLLLoss()\n",
    "optimizer = torch.optim.Adam(model.parameters(), lr=1e-3)"
   ]
  },
  {
   "cell_type": "code",
   "execution_count": 11,
   "id": "6a50596c-1ec2-4c27-9f8e-4ef85ca258af",
   "metadata": {},
   "outputs": [],
   "source": [
    "batch_size = 32\n",
    "n_epochs = 5000\n",
    "print_every = 100\n",
    "plot_every = print_every // 2\n",
    "## Train on 1 line at a time, so GPU is slower\n",
    "# device = torch.device(\"cuda:0\" if torch.cuda.is_available() else \"cpu\")\n",
    "device = \"cpu\""
   ]
  },
  {
   "cell_type": "code",
   "execution_count": 12,
   "id": "976df949-d46b-4957-b5c0-2048ff9bf953",
   "metadata": {},
   "outputs": [
    {
     "name": "stdout",
     "output_type": "stream",
     "text": [
      "100 2.0% (0.0m 12.06811237335205s): 1.9328179359436035\n",
      "200 4.0% (0.0m 23.628873825073242s): 2.0913880666097007\n",
      "300 6.0% (0.0m 38.061137437820435s): 1.6315512657165527\n",
      "400 8.0% (0.0m 50.107495069503784s): 2.4303201039632163\n",
      "500 10.0% (1.0m 1.6106579303741455s): 1.067837397257487\n",
      "600 12.0% (1.0m 13.078120946884155s): 1.3930883407592773\n",
      "700 14.0% (1.0m 24.640512704849243s): 1.187478474208287\n",
      "800 16.0% (1.0m 36.20317769050598s): 1.6298974752426147\n",
      "900 18.0% (1.0m 47.71520519256592s): 2.1962859630584717\n",
      "1000 20.0% (1.0m 59.21301078796387s): 2.167647043863932\n",
      "1100 22.0% (2.0m 11.088111877441406s): 1.0674355030059814\n",
      "1200 24.0% (2.0m 22.999074935913086s): 2.2023727099100747\n",
      "1300 26.0% (2.0m 35.2846896648407s): 2.3281898498535156\n",
      "1400 28.0% (2.0m 47.43916606903076s): 1.1002726554870605\n",
      "1500 30.0% (2.0m 59.46517062187195s): 1.2106554508209229\n",
      "1600 32.0% (3.0m 11.39693832397461s): 1.0168641408284504\n",
      "1700 34.0% (3.0m 23.404196977615356s): 0.47246379852294923\n",
      "1800 36.0% (3.0m 34.96176528930664s): 1.3330621719360352\n",
      "1900 38.0% (3.0m 46.8366436958313s): 2.059352238972982\n",
      "2000 40.0% (3.0m 59.33590245246887s): 2.142219384511312\n",
      "2100 42.0% (4.0m 11.470441341400146s): 0.6001157760620117\n",
      "2200 44.0% (4.0m 23.296553373336792s): 2.2912437438964846\n",
      "2300 46.0% (4.0m 34.91393804550171s): 2.296844800313314\n",
      "2400 48.0% (4.0m 46.81898880004883s): 1.2951003313064575\n",
      "2500 50.0% (4.0m 58.67833662033081s): 1.2765959739685058\n",
      "2600 52.0% (5.0m 10.348720788955688s): 4.208361307779948\n",
      "2700 54.0% (5.0m 21.99981188774109s): 1.527194446987576\n",
      "2800 56.0% (5.0m 34.084237575531006s): 0.9528653621673584\n",
      "2900 58.0% (5.0m 45.84366774559021s): 2.4436163221086775\n",
      "3000 60.0% (5.0m 57.46205234527588s): 1.0218991041183472\n",
      "3100 62.0% (6.0m 9.148319005966187s): 0.14102871716022491\n",
      "3200 64.0% (6.0m 20.879859924316406s): 1.8231037457784016\n",
      "3300 66.0% (6.0m 32.47349977493286s): 0.7782210826873779\n",
      "3400 68.0% (6.0m 44.394280433654785s): 0.6371988455454508\n",
      "3500 70.0% (6.0m 55.730024099349976s): 0.41911519898308647\n",
      "3600 72.0% (7.0m 6.849618196487427s): 1.5273736317952473\n",
      "3700 74.0% (7.0m 17.97272801399231s): 2.445013893975152\n",
      "3800 76.0% (7.0m 29.47489047050476s): 0.5393080711364746\n",
      "3900 78.0% (7.0m 40.661888122558594s): 1.353965663909912\n",
      "4000 80.0% (7.0m 51.87931275367737s): 0.29605430364608765\n",
      "4100 82.0% (8.0m 3.1101975440979004s): 1.1909972826639812\n",
      "4200 84.0% (8.0m 14.236700296401978s): 1.9683357238769532\n",
      "4300 86.0% (8.0m 25.498138904571533s): 0.9875511689619585\n",
      "4400 88.0% (8.0m 36.627925634384155s): 1.4837735176086426\n",
      "4500 90.0% (8.0m 47.85175848007202s): 0.40111249685287476\n",
      "4600 92.0% (8.0m 59.072203397750854s): 0.29604490598042804\n",
      "4700 94.0% (9.0m 10.237979173660278s): 0.3724585473537445\n",
      "4800 96.0% (9.0m 21.499162912368774s): 1.1437601089477538\n",
      "4900 98.0% (9.0m 32.68741273880005s): 0.9423709445529513\n",
      "5000 100.0% (9.0m 43.98438382148743s): 2.3395334243774415\n"
     ]
    }
   ],
   "source": [
    "model.to(device)\n",
    "losses = train()"
   ]
  },
  {
   "cell_type": "code",
   "execution_count": 15,
   "id": "48475348-0ba0-4576-917a-3efbc4fa4a81",
   "metadata": {},
   "outputs": [
    {
     "data": {
      "image/png": "[encoded data removed]",
      "text/plain": [
       "<Figure size 640x480 with 1 Axes>"
      ]
     },
     "metadata": {},
     "output_type": "display_data"
    }
   ],
   "source": [
    "sns.lineplot(x=np.arange(plot_every, n_epochs + 1, plot_every), y=losses)\n",
    "plt.show()"
   ]
  },
  {
   "cell_type": "code",
   "execution_count": 222,
   "id": "3c225509-b597-4b5d-a2a2-f04853a4c3d5",
   "metadata": {},
   "outputs": [],
   "source": [
    "def sample(model, category, start_letter, max_length=50, k=1):\n",
    "    model.eval()\n",
    "    with torch.no_grad():\n",
    "        h = model.zero_hidden().to(device)\n",
    "        category_tensor = category_to_tensor(category).to(device)\n",
    "        input_tensor = input_to_tensor(start_letter).to(device)\n",
    "        \n",
    "        # TODO: modify to use beam search\n",
    "        output_name_ls = [start_letter]\n",
    "        for i in range(max_length):\n",
    "            yhat, h = model(category_tensor, input_tensor[0], h)\n",
    "            topv, topi = yhat.topk(k)\n",
    "            if topi.numel() > 1:\n",
    "                topi = topi.squeeze().to(\"cpu\").numpy()\n",
    "                topv = topv.squeeze().to(\"cpu\").numpy()\n",
    "            else:\n",
    "                topi = topi.squeeze(dim=1).to(\"cpu\").numpy()\n",
    "                topv = topv.squeeze(dim=1).to(\"cpu\").numpy()\n",
    "            topi = np.random.choice(topi, p=np.exp(topv)/np.sum(np.exp(topv)))\n",
    "            if topi == n_letters - 1:\n",
    "                break\n",
    "            else:\n",
    "                letter = all_letters[topi]\n",
    "                output_name_ls.append(letter)\n",
    "            input_tensor = input_to_tensor(letter)\n",
    "    return \"\".join(output_name_ls)\n",
    "\n",
    "\n",
    "def samples(model, category, start_letters, max_length=50, k=1):\n",
    "    names = []\n",
    "    for start_letter in start_letters:\n",
    "        names.append(sample(model, category, start_letter, max_length=max_length, k=k))\n",
    "    return names"
   ]
  },
  {
   "cell_type": "code",
   "execution_count": 223,
   "id": "e3e698bc-0d83-4eea-bad8-b7567ad0c740",
   "metadata": {},
   "outputs": [
    {
     "data": {
      "text/plain": [
       "['Carmi', 'Cleirign', 'Cleir']"
      ]
     },
     "execution_count": 223,
     "metadata": {},
     "output_type": "execute_result"
    }
   ],
   "source": [
    "samples(model, \"Irish\", \"CCC\", k=3)"
   ]
  }
 ],
 "metadata": {
  "kernelspec": {
   "display_name": "Python 3 (ipykernel)",
   "language": "python",
   "name": "python3"
  },
  "language_info": {
   "codemirror_mode": {
    "name": "ipython",
    "version": 3
   },
   "file_extension": ".py",
   "mimetype": "text/x-python",
   "name": "python",
   "nbconvert_exporter": "python",
   "pygments_lexer": "ipython3",
   "version": "3.10.10"
  }
 },
 "nbformat": 4,
 "nbformat_minor": 5
}
