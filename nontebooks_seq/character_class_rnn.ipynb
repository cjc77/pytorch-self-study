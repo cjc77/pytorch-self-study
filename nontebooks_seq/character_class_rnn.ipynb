{
 "cells": [
  {
   "cell_type": "code",
   "execution_count": 20,
   "id": "35c67db5-2b5e-4295-af71-e8ce7bd15eb4",
   "metadata": {},
   "outputs": [],
   "source": [
    "from io import open\n",
    "import glob\n",
    "import unicodedata\n",
    "import string\n",
    "import os\n",
    "import numpy as np"
   ]
  },
  {
   "cell_type": "code",
   "execution_count": 2,
   "id": "9aa83384-10f9-45f1-ba05-4519d4ee6d05",
   "metadata": {},
   "outputs": [],
   "source": [
    "def unicode_to_ascii(s):\n",
    "    decoded = \"\".join(\n",
    "        c for c in unicodedata.normalize(\"NFD\", s)\n",
    "        if unicodedata.category(c) != \"Mn\"\n",
    "        and c in all_letters\n",
    "    )\n",
    "    return decoded\n",
    "\n",
    "\n",
    "def read_lines(filename):\n",
    "    lines = open(filename, encoding=\"utf-8\").read().strip().split('\\n')\n",
    "    return [unicode_to_ascii(line) for line in lines]"
   ]
  },
  {
   "cell_type": "code",
   "execution_count": 6,
   "id": "85d3dd58-8386-442e-9da1-14ba7e805503",
   "metadata": {},
   "outputs": [],
   "source": [
    "name_files = glob.glob(\"../data/rnn_char_class_data/names/*.txt\")\n",
    "all_letters = string.ascii_letters + \" .,;'\"\n",
    "n_letters = len(all_letters)"
   ]
  },
  {
   "cell_type": "code",
   "execution_count": 7,
   "id": "59c84c49-66ce-4480-bb1d-b38b3260c18a",
   "metadata": {},
   "outputs": [
    {
     "name": "stdout",
     "output_type": "stream",
     "text": [
      "Slusarski\n"
     ]
    }
   ],
   "source": [
    "print(unicode_to_ascii('Ślusàrski'))"
   ]
  },
  {
   "cell_type": "code",
   "execution_count": 16,
   "id": "918f43af-1dc5-40d9-b1bf-73eff235708e",
   "metadata": {},
   "outputs": [],
   "source": [
    "# category_lines dict. -- a list of names per language\n",
    "category_lines = {}\n",
    "all_categories = []\n",
    "\n",
    "for filename in name_files:\n",
    "    category = os.path.splitext(os.path.basename(filename))[0]\n",
    "    all_categories.append(category)\n",
    "    lines = read_lines(filename)\n",
    "    category_lines[category] = lines\n",
    "\n",
    "n_categories = len(all_categories)"
   ]
  },
  {
   "cell_type": "code",
   "execution_count": 27,
   "id": "a3349e73-a1eb-4dbb-b599-648cdfff92a8",
   "metadata": {},
   "outputs": [
    {
     "name": "stdout",
     "output_type": "stream",
     "text": [
      "1115.2222222222222\n",
      "20074\n",
      "['Abandonato', 'Abatangelo', 'Abatantuono', 'Abate', 'Abategiovanni']\n"
     ]
    }
   ],
   "source": [
    "print(\n",
    "    np.mean([len(v) for k, v in category_lines.items()])\n",
    ")\n",
    "\n",
    "print(\n",
    "    np.sum([len(v) for k, v in category_lines.items()])\n",
    ")\n",
    "\n",
    "print(category_lines[\"Italian\"][:5])"
   ]
  }
 ],
 "metadata": {
  "kernelspec": {
   "display_name": "Python 3 (ipykernel)",
   "language": "python",
   "name": "python3"
  },
  "language_info": {
   "codemirror_mode": {
    "name": "ipython",
    "version": 3
   },
   "file_extension": ".py",
   "mimetype": "text/x-python",
   "name": "python",
   "nbconvert_exporter": "python",
   "pygments_lexer": "ipython3",
   "version": "3.10.10"
  }
 },
 "nbformat": 4,
 "nbformat_minor": 5
}
